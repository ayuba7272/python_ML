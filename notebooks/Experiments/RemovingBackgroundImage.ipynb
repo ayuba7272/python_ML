{
 "cells": [
  {
   "cell_type": "code",
   "execution_count": 5,
   "id": "aeab86cd",
   "metadata": {
    "scrolled": true
   },
   "outputs": [
    {
     "name": "stdout",
     "output_type": "stream",
     "text": [
      "Collecting rembg\n",
      "  Using cached rembg-2.0.30-py3-none-any.whl (13 kB)\n",
      "Collecting watchdog~=2.1.9\n",
      "  Using cached watchdog-2.1.9-py3-none-win_amd64.whl (78 kB)\n",
      "Collecting tqdm~=4.64.1\n",
      "  Using cached tqdm-4.64.1-py2.py3-none-any.whl (78 kB)\n",
      "Collecting asyncer~=0.0.2\n",
      "  Using cached asyncer-0.0.2-py3-none-any.whl (8.3 kB)\n",
      "Collecting opencv-python-headless~=4.6.0.66\n",
      "  Using cached opencv_python_headless-4.6.0.66-cp36-abi3-win_amd64.whl (35.5 MB)\n",
      "Collecting pooch~=1.6.0\n",
      "  Using cached pooch-1.6.0-py3-none-any.whl (56 kB)\n",
      "Requirement already satisfied: pillow~=9.3.0 in c:\\users\\ayuba\\anaconda3\\lib\\site-packages (from rembg) (9.3.0)\n",
      "Requirement already satisfied: aiohttp~=3.8.1 in c:\\users\\ayuba\\anaconda3\\lib\\site-packages (from rembg) (3.8.1)\n",
      "Collecting uvicorn~=0.20.0\n",
      "  Using cached uvicorn-0.20.0-py3-none-any.whl (56 kB)\n",
      "Collecting scipy~=1.9.3\n",
      "  Using cached scipy-1.9.3-cp39-cp39-win_amd64.whl (40.2 MB)\n",
      "Requirement already satisfied: numpy~=1.23.5 in c:\\users\\ayuba\\anaconda3\\lib\\site-packages (from rembg) (1.23.5)\n",
      "Collecting onnxruntime~=1.13.1\n",
      "  Using cached onnxruntime-1.13.1-cp39-cp39-win_amd64.whl (5.9 MB)\n",
      "Collecting filetype~=1.2.0\n",
      "  Using cached filetype-1.2.0-py2.py3-none-any.whl (19 kB)\n",
      "Collecting pymatting~=1.1.8\n",
      "  Using cached PyMatting-1.1.8-py3-none-any.whl (47 kB)\n",
      "Collecting python-multipart~=0.0.5\n",
      "  Using cached python_multipart-0.0.6-py3-none-any.whl (45 kB)\n",
      "Collecting fastapi~=0.87.0\n",
      "  Using cached fastapi-0.87.0-py3-none-any.whl (55 kB)\n",
      "Collecting click~=8.1.3\n",
      "  Using cached click-8.1.3-py3-none-any.whl (96 kB)\n",
      "Collecting imagehash~=4.3.1\n",
      "  Using cached ImageHash-4.3.1-py2.py3-none-any.whl (296 kB)\n",
      "Collecting scikit-image~=0.19.3\n",
      "  Using cached scikit_image-0.19.3-cp39-cp39-win_amd64.whl (12.1 MB)\n",
      "Requirement already satisfied: async-timeout<5.0,>=4.0.0a3 in c:\\users\\ayuba\\anaconda3\\lib\\site-packages (from aiohttp~=3.8.1->rembg) (4.0.1)\n",
      "Requirement already satisfied: multidict<7.0,>=4.5 in c:\\users\\ayuba\\anaconda3\\lib\\site-packages (from aiohttp~=3.8.1->rembg) (5.1.0)\n",
      "Requirement already satisfied: yarl<2.0,>=1.0 in c:\\users\\ayuba\\anaconda3\\lib\\site-packages (from aiohttp~=3.8.1->rembg) (1.6.3)\n",
      "Requirement already satisfied: frozenlist>=1.1.1 in c:\\users\\ayuba\\anaconda3\\lib\\site-packages (from aiohttp~=3.8.1->rembg) (1.2.0)\n",
      "Requirement already satisfied: charset-normalizer<3.0,>=2.0 in c:\\users\\ayuba\\anaconda3\\lib\\site-packages (from aiohttp~=3.8.1->rembg) (2.0.4)\n",
      "Requirement already satisfied: aiosignal>=1.1.2 in c:\\users\\ayuba\\anaconda3\\lib\\site-packages (from aiohttp~=3.8.1->rembg) (1.2.0)\n",
      "Requirement already satisfied: attrs>=17.3.0 in c:\\users\\ayuba\\anaconda3\\lib\\site-packages (from aiohttp~=3.8.1->rembg) (21.4.0)\n",
      "Requirement already satisfied: typing-extensions>=3.6.5 in c:\\users\\ayuba\\anaconda3\\lib\\site-packages (from async-timeout<5.0,>=4.0.0a3->aiohttp~=3.8.1->rembg) (4.5.0)\n",
      "Requirement already satisfied: anyio<4.0.0,>=3.4.0 in c:\\users\\ayuba\\anaconda3\\lib\\site-packages (from asyncer~=0.0.2->rembg) (3.5.0)\n",
      "Requirement already satisfied: idna>=2.8 in c:\\users\\ayuba\\anaconda3\\lib\\site-packages (from anyio<4.0.0,>=3.4.0->asyncer~=0.0.2->rembg) (3.3)\n",
      "Requirement already satisfied: sniffio>=1.1 in c:\\users\\ayuba\\anaconda3\\lib\\site-packages (from anyio<4.0.0,>=3.4.0->asyncer~=0.0.2->rembg) (1.2.0)\n",
      "Requirement already satisfied: colorama in c:\\users\\ayuba\\anaconda3\\lib\\site-packages (from click~=8.1.3->rembg) (0.4.4)\n",
      "Collecting starlette==0.21.0\n",
      "  Using cached starlette-0.21.0-py3-none-any.whl (64 kB)\n",
      "Collecting pydantic!=1.7,!=1.7.1,!=1.7.2,!=1.7.3,!=1.8,!=1.8.1,<2.0.0,>=1.6.2\n",
      "  Using cached pydantic-1.10.5-cp39-cp39-win_amd64.whl (2.2 MB)\n",
      "Requirement already satisfied: PyWavelets in c:\\users\\ayuba\\anaconda3\\lib\\site-packages (from imagehash~=4.3.1->rembg) (1.3.0)\n",
      "Collecting flatbuffers\n",
      "  Using cached flatbuffers-23.1.21-py2.py3-none-any.whl (26 kB)\n",
      "Requirement already satisfied: packaging in c:\\users\\ayuba\\anaconda3\\lib\\site-packages (from onnxruntime~=1.13.1->rembg) (21.3)\n",
      "Requirement already satisfied: protobuf in c:\\users\\ayuba\\anaconda3\\lib\\site-packages (from onnxruntime~=1.13.1->rembg) (3.19.1)\n",
      "Requirement already satisfied: sympy in c:\\users\\ayuba\\anaconda3\\lib\\site-packages (from onnxruntime~=1.13.1->rembg) (1.10.1)\n",
      "Collecting coloredlogs\n",
      "  Using cached coloredlogs-15.0.1-py2.py3-none-any.whl (46 kB)\n",
      "Requirement already satisfied: requests>=2.19.0 in c:\\users\\ayuba\\anaconda3\\lib\\site-packages (from pooch~=1.6.0->rembg) (2.27.1)\n",
      "Requirement already satisfied: appdirs>=1.3.0 in c:\\users\\ayuba\\anaconda3\\lib\\site-packages (from pooch~=1.6.0->rembg) (1.4.4)\n",
      "Requirement already satisfied: pyparsing!=3.0.5,>=2.0.2 in c:\\users\\ayuba\\anaconda3\\lib\\site-packages (from packaging->onnxruntime~=1.13.1->rembg) (3.0.4)\n",
      "Requirement already satisfied: numba!=0.49.0 in c:\\users\\ayuba\\anaconda3\\lib\\site-packages (from pymatting~=1.1.8->rembg) (0.55.1)\n",
      "Requirement already satisfied: setuptools in c:\\users\\ayuba\\anaconda3\\lib\\site-packages (from numba!=0.49.0->pymatting~=1.1.8->rembg) (61.2.0)\n",
      "Collecting numba!=0.49.0\n",
      "  Using cached numba-0.56.4-cp39-cp39-win_amd64.whl (2.5 MB)\n",
      "Collecting llvmlite<0.40,>=0.39.0dev0\n",
      "  Using cached llvmlite-0.39.1-cp39-cp39-win_amd64.whl (23.2 MB)\n",
      "Requirement already satisfied: urllib3<1.27,>=1.21.1 in c:\\users\\ayuba\\anaconda3\\lib\\site-packages (from requests>=2.19.0->pooch~=1.6.0->rembg) (1.26.9)\n",
      "Requirement already satisfied: certifi>=2017.4.17 in c:\\users\\ayuba\\anaconda3\\lib\\site-packages (from requests>=2.19.0->pooch~=1.6.0->rembg) (2021.10.8)\n",
      "Requirement already satisfied: imageio>=2.4.1 in c:\\users\\ayuba\\anaconda3\\lib\\site-packages (from scikit-image~=0.19.3->rembg) (2.9.0)\n",
      "Requirement already satisfied: tifffile>=2019.7.26 in c:\\users\\ayuba\\anaconda3\\lib\\site-packages (from scikit-image~=0.19.3->rembg) (2021.7.2)\n",
      "Requirement already satisfied: networkx>=2.2 in c:\\users\\ayuba\\anaconda3\\lib\\site-packages (from scikit-image~=0.19.3->rembg) (2.7.1)\n",
      "Collecting h11>=0.8\n",
      "  Using cached h11-0.14.0-py3-none-any.whl (58 kB)\n",
      "Collecting humanfriendly>=9.1\n",
      "  Using cached humanfriendly-10.0-py2.py3-none-any.whl (86 kB)\n",
      "Requirement already satisfied: pyreadline3 in c:\\users\\ayuba\\anaconda3\\lib\\site-packages (from humanfriendly>=9.1->coloredlogs->onnxruntime~=1.13.1->rembg) (3.4.1)\n",
      "Requirement already satisfied: mpmath>=0.19 in c:\\users\\ayuba\\anaconda3\\lib\\site-packages (from sympy->onnxruntime~=1.13.1->rembg) (1.2.1)\n",
      "Installing collected packages: llvmlite, humanfriendly, starlette, scipy, pydantic, numba, h11, flatbuffers, coloredlogs, click, watchdog, uvicorn, tqdm, scikit-image, python-multipart, pymatting, pooch, opencv-python-headless, onnxruntime, imagehash, filetype, fastapi, asyncer, rembg\n",
      "Successfully installed asyncer-0.0.2 click-8.1.3 coloredlogs-15.0.1 fastapi-0.87.0 filetype-1.2.0 flatbuffers-23.1.21 h11-0.14.0 humanfriendly-10.0 imagehash-4.3.1 llvmlite-0.39.1 numba-0.56.4 onnxruntime-1.13.1 opencv-python-headless-4.6.0.66 pooch-1.6.0 pydantic-1.10.5 pymatting-1.1.8 python-multipart-0.0.6 rembg-2.0.30 scikit-image-0.19.3 scipy-1.9.3 starlette-0.21.0 tqdm-4.64.1 uvicorn-0.20.0 watchdog-2.1.9\n"
     ]
    },
    {
     "name": "stderr",
     "output_type": "stream",
     "text": [
      "  WARNING: The script humanfriendly.exe is installed in 'C:\\Users\\ayuba\\AppData\\Roaming\\Python\\Python39\\Scripts' which is not on PATH.\n",
      "  Consider adding this directory to PATH or, if you prefer to suppress this warning, use --no-warn-script-location.\n",
      "  WARNING: The script coloredlogs.exe is installed in 'C:\\Users\\ayuba\\AppData\\Roaming\\Python\\Python39\\Scripts' which is not on PATH.\n",
      "  Consider adding this directory to PATH or, if you prefer to suppress this warning, use --no-warn-script-location.\n",
      "  WARNING: The script watchmedo.exe is installed in 'C:\\Users\\ayuba\\AppData\\Roaming\\Python\\Python39\\Scripts' which is not on PATH.\n",
      "  Consider adding this directory to PATH or, if you prefer to suppress this warning, use --no-warn-script-location.\n",
      "  WARNING: The script uvicorn.exe is installed in 'C:\\Users\\ayuba\\AppData\\Roaming\\Python\\Python39\\Scripts' which is not on PATH.\n",
      "  Consider adding this directory to PATH or, if you prefer to suppress this warning, use --no-warn-script-location.\n",
      "  WARNING: The script tqdm.exe is installed in 'C:\\Users\\ayuba\\AppData\\Roaming\\Python\\Python39\\Scripts' which is not on PATH.\n",
      "  Consider adding this directory to PATH or, if you prefer to suppress this warning, use --no-warn-script-location.\n",
      "  WARNING: The script skivi.exe is installed in 'C:\\Users\\ayuba\\AppData\\Roaming\\Python\\Python39\\Scripts' which is not on PATH.\n",
      "  Consider adding this directory to PATH or, if you prefer to suppress this warning, use --no-warn-script-location.\n",
      "  WARNING: The script onnxruntime_test.exe is installed in 'C:\\Users\\ayuba\\AppData\\Roaming\\Python\\Python39\\Scripts' which is not on PATH.\n",
      "  Consider adding this directory to PATH or, if you prefer to suppress this warning, use --no-warn-script-location.\n",
      "  WARNING: The script filetype.exe is installed in 'C:\\Users\\ayuba\\AppData\\Roaming\\Python\\Python39\\Scripts' which is not on PATH.\n",
      "  Consider adding this directory to PATH or, if you prefer to suppress this warning, use --no-warn-script-location.\n",
      "  WARNING: The script rembg.exe is installed in 'C:\\Users\\ayuba\\AppData\\Roaming\\Python\\Python39\\Scripts' which is not on PATH.\n",
      "  Consider adding this directory to PATH or, if you prefer to suppress this warning, use --no-warn-script-location.\n",
      "ERROR: pip's dependency resolver does not currently take into account all the packages that are installed. This behaviour is the source of the following dependency conflicts.\n",
      "spyder 5.1.5 requires pyqt5<5.13, which is not installed.\n",
      "spyder 5.1.5 requires pyqtwebengine<5.13, which is not installed.\n"
     ]
    }
   ],
   "source": [
    "!pip install rembg --user"
   ]
  },
  {
   "cell_type": "code",
   "execution_count": 6,
   "id": "770b4e83",
   "metadata": {},
   "outputs": [
    {
     "ename": "ModuleNotFoundError",
     "evalue": "No module named 'rembg'",
     "output_type": "error",
     "traceback": [
      "\u001b[1;31m---------------------------------------------------------------------------\u001b[0m",
      "\u001b[1;31mModuleNotFoundError\u001b[0m                       Traceback (most recent call last)",
      "Input \u001b[1;32mIn [6]\u001b[0m, in \u001b[0;36m<cell line: 1>\u001b[1;34m()\u001b[0m\n\u001b[1;32m----> 1\u001b[0m \u001b[38;5;28;01mfrom\u001b[39;00m \u001b[38;5;21;01mrembg\u001b[39;00m \u001b[38;5;28;01mimport\u001b[39;00m remove\n\u001b[0;32m      2\u001b[0m \u001b[38;5;28;01mfrom\u001b[39;00m \u001b[38;5;21;01mPIL\u001b[39;00m \u001b[38;5;28;01mimport\u001b[39;00m Image\n",
      "\u001b[1;31mModuleNotFoundError\u001b[0m: No module named 'rembg'"
     ]
    }
   ],
   "source": [
    "from rembg import remove\n",
    "from PIL import Image"
   ]
  },
  {
   "cell_type": "code",
   "execution_count": null,
   "id": "d9122895",
   "metadata": {},
   "outputs": [],
   "source": [
    "input_path = 'Screenshot.png'\n",
    "output_path = 'cleaned_image.jpg'\n",
    "ip = Image.open(input_path)\n",
    "op = remove(ip)\n",
    "op.save(output_path)"
   ]
  },
  {
   "cell_type": "code",
   "execution_count": null,
   "id": "408348fa",
   "metadata": {},
   "outputs": [],
   "source": []
  }
 ],
 "metadata": {
  "kernelspec": {
   "display_name": "Python 3 (ipykernel)",
   "language": "python",
   "name": "python3"
  },
  "language_info": {
   "codemirror_mode": {
    "name": "ipython",
    "version": 3
   },
   "file_extension": ".py",
   "mimetype": "text/x-python",
   "name": "python",
   "nbconvert_exporter": "python",
   "pygments_lexer": "ipython3",
   "version": "3.9.12"
  }
 },
 "nbformat": 4,
 "nbformat_minor": 5
}
