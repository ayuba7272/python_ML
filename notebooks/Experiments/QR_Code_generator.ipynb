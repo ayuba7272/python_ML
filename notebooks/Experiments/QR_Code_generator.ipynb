{
 "cells": [
  {
   "cell_type": "code",
   "execution_count": 1,
   "id": "f876eb98",
   "metadata": {},
   "outputs": [
    {
     "name": "stdout",
     "output_type": "stream",
     "text": [
      "Requirement already satisfied: pyqrcode in c:\\users\\ayuba\\anaconda3\\lib\\site-packages (1.2.1)\n"
     ]
    }
   ],
   "source": [
    "!pip install pyqrcode"
   ]
  },
  {
   "cell_type": "code",
   "execution_count": 2,
   "id": "3f482d76",
   "metadata": {},
   "outputs": [
    {
     "name": "stdout",
     "output_type": "stream",
     "text": [
      "Requirement already satisfied: pypng in c:\\users\\ayuba\\anaconda3\\lib\\site-packages (0.20220715.0)\n"
     ]
    }
   ],
   "source": [
    "!pip install pypng"
   ]
  },
  {
   "cell_type": "code",
   "execution_count": 3,
   "id": "6b6f0ebc",
   "metadata": {},
   "outputs": [],
   "source": [
    "#clcoding.com\n",
    "import pyqrcode\n",
    "from PIL import Image"
   ]
  },
  {
   "cell_type": "code",
   "execution_count": 4,
   "id": "c5370c56",
   "metadata": {},
   "outputs": [
    {
     "name": "stdout",
     "output_type": "stream",
     "text": [
      "Enter anything that you wnat to generate a QR code for:https://ayuba7272.github.io/\n"
     ]
    }
   ],
   "source": [
    "link = input(\"Enter anything that you wnat to generate a QR code for:\")\n",
    "qr_code = pyqrcode.create(link)"
   ]
  },
  {
   "cell_type": "code",
   "execution_count": 5,
   "id": "3846c229",
   "metadata": {},
   "outputs": [
    {
     "data": {
      "image/png": "[encoded data removed]",
      "text/plain": [
       "<PIL.PngImagePlugin.PngImageFile image mode=1 size=205x205>"
      ]
     },
     "execution_count": 5,
     "metadata": {},
     "output_type": "execute_result"
    }
   ],
   "source": [
    "qr_code.png('QR_Code.png',scale=5)\n",
    "Image.open('QR_Code.png')"
   ]
  },
  {
   "cell_type": "code",
   "execution_count": null,
   "id": "b2e54775",
   "metadata": {},
   "outputs": [],
   "source": []
  }
 ],
 "metadata": {
  "kernelspec": {
   "display_name": "Python 3 (ipykernel)",
   "language": "python",
   "name": "python3"
  },
  "language_info": {
   "codemirror_mode": {
    "name": "ipython",
    "version": 3
   },
   "file_extension": ".py",
   "mimetype": "text/x-python",
   "name": "python",
   "nbconvert_exporter": "python",
   "pygments_lexer": "ipython3",
   "version": "3.9.12"
  }
 },
 "nbformat": 4,
 "nbformat_minor": 5
}
