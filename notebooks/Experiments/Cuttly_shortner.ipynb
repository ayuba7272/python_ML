{
 "cells": [
  {
   "cell_type": "code",
   "execution_count": 1,
   "id": "cb2f5f61-4c84-4712-964a-45ff16c9bb7b",
   "metadata": {},
   "outputs": [],
   "source": [
    "import urllib\n",
    "import requests\n",
    "import json\n",
    "import pandas as pd"
   ]
  },
  {
   "cell_type": "code",
   "execution_count": 2,
   "id": "2654fcea-a378-43d8-8be4-0610505cdc2b",
   "metadata": {},
   "outputs": [],
   "source": [
    "key = '88429cc3312eed95b96d37e042dd227618e87'\n",
    "url_list = ['https://www.levi.in/new-arrivals/men','https://www.levi.in/women/clothing/shorts-skirts',\n",
    "            'https://www.levi.in/levisdeepika']\n",
    "name_list = ['abcd_Test_Link001','abcd_Test_Link002','abcd_Test_Link003']"
   ]
  },
  {
   "cell_type": "code",
   "execution_count": 3,
   "id": "acd6707d",
   "metadata": {},
   "outputs": [],
   "source": [
    "def cuttly_shorten_URL_list(url_list=[],name_list=[],key='',userDomain='0'):\n",
    "    l = len(url_list)\n",
    "    op_list = []\n",
    "    for x in range(l):\n",
    "        url_ = urllib.parse.quote(url_list[x])\n",
    "        try:\n",
    "            if len(name_list[x])>0: name = name_list[x]\n",
    "            else: name = ''\n",
    "        except:\n",
    "            name = ''\n",
    "        r = requests.get('http://cutt.ly/api/api.php?key={}&short={}&name={}&userDomain={}'.format(key, url_, name, userDomain))\n",
    "        #print(r.text)\n",
    "        result = json.loads(r.text[7:-1])\n",
    "        op_list.append(result[\"shortLink\"])\n",
    "    output_dict = {'Original URLs':url_list,'Shortened URLs':op_list}\n",
    "    output = pd.DataFrame(output_dict)\n",
    "    return output"
   ]
  },
  {
   "cell_type": "code",
   "execution_count": 4,
   "id": "eef3bf68",
   "metadata": {},
   "outputs": [
    {
     "data": {
      "text/html": [
       "<div>\n",
       "<style scoped>\n",
       "    .dataframe tbody tr th:only-of-type {\n",
       "        vertical-align: middle;\n",
       "    }\n",
       "\n",
       "    .dataframe tbody tr th {\n",
       "        vertical-align: top;\n",
       "    }\n",
       "\n",
       "    .dataframe thead th {\n",
       "        text-align: right;\n",
       "    }\n",
       "</style>\n",
       "<table border=\"1\" class=\"dataframe\">\n",
       "  <thead>\n",
       "    <tr style=\"text-align: right;\">\n",
       "      <th></th>\n",
       "      <th>Original URLs</th>\n",
       "      <th>Shortened URLs</th>\n",
       "    </tr>\n",
       "  </thead>\n",
       "  <tbody>\n",
       "    <tr>\n",
       "      <th>0</th>\n",
       "      <td>https://www.levi.in/new-arrivals/men</td>\n",
       "      <td>https://cutt.ly/abcd_Test_Link001</td>\n",
       "    </tr>\n",
       "    <tr>\n",
       "      <th>1</th>\n",
       "      <td>https://www.levi.in/women/clothing/shorts-skirts</td>\n",
       "      <td>https://cutt.ly/abcd_Test_Link002</td>\n",
       "    </tr>\n",
       "    <tr>\n",
       "      <th>2</th>\n",
       "      <td>https://www.levi.in/levisdeepika</td>\n",
       "      <td>https://cutt.ly/abcd_Test_Link003</td>\n",
       "    </tr>\n",
       "  </tbody>\n",
       "</table>\n",
       "</div>"
      ],
      "text/plain": [
       "                                      Original URLs  \\\n",
       "0              https://www.levi.in/new-arrivals/men   \n",
       "1  https://www.levi.in/women/clothing/shorts-skirts   \n",
       "2                  https://www.levi.in/levisdeepika   \n",
       "\n",
       "                      Shortened URLs  \n",
       "0  https://cutt.ly/abcd_Test_Link001  \n",
       "1  https://cutt.ly/abcd_Test_Link002  \n",
       "2  https://cutt.ly/abcd_Test_Link003  "
      ]
     },
     "execution_count": 4,
     "metadata": {},
     "output_type": "execute_result"
    }
   ],
   "source": [
    "df = cuttly_shorten_URL_list(url_list,name_list,key=key,userDomain='0')\n",
    "df.head()"
   ]
  },
  {
   "cell_type": "code",
   "execution_count": null,
   "id": "6d457070",
   "metadata": {},
   "outputs": [],
   "source": []
  },
  {
   "cell_type": "code",
   "execution_count": null,
   "id": "9e56e40c",
   "metadata": {},
   "outputs": [],
   "source": []
  }
 ],
 "metadata": {
  "environment": {
   "kernel": "python3",
   "name": "common-cpu.m98",
   "type": "gcloud",
   "uri": "gcr.io/deeplearning-platform-release/base-cpu:m98"
  },
  "kernelspec": {
   "display_name": "Python 3 (ipykernel)",
   "language": "python",
   "name": "python3"
  },
  "language_info": {
   "codemirror_mode": {
    "name": "ipython",
    "version": 3
   },
   "file_extension": ".py",
   "mimetype": "text/x-python",
   "name": "python",
   "nbconvert_exporter": "python",
   "pygments_lexer": "ipython3",
   "version": "3.9.12"
  }
 },
 "nbformat": 4,
 "nbformat_minor": 5
}
