{
 "cells": [
  {
   "cell_type": "code",
   "execution_count": 1,
   "id": "aeab86cd",
   "metadata": {},
   "outputs": [
    {
     "name": "stdout",
     "output_type": "stream",
     "text": [
      "Collecting rembg\n",
      "  Downloading rembg-2.0.30-py3-none-any.whl (13 kB)\n",
      "Collecting asyncer~=0.0.2\n",
      "  Downloading asyncer-0.0.2-py3-none-any.whl (8.3 kB)\n"
     ]
    },
    {
     "name": "stderr",
     "output_type": "stream",
     "text": [
      "ERROR: Cannot uninstall 'llvmlite'. It is a distutils installed project and thus we cannot accurately determine which files belong to it which would lead to only a partial uninstall.\n"
     ]
    },
    {
     "name": "stdout",
     "output_type": "stream",
     "text": [
      "Collecting tqdm~=4.64.1\n",
      "  Downloading tqdm-4.64.1-py2.py3-none-any.whl (78 kB)\n",
      "Collecting click~=8.1.3\n",
      "  Downloading click-8.1.3-py3-none-any.whl (96 kB)\n",
      "Collecting python-multipart~=0.0.5\n",
      "  Downloading python_multipart-0.0.6-py3-none-any.whl (45 kB)\n",
      "Collecting scikit-image~=0.19.3\n",
      "  Downloading scikit_image-0.19.3-cp39-cp39-win_amd64.whl (12.1 MB)\n",
      "Collecting fastapi~=0.87.0\n",
      "  Downloading fastapi-0.87.0-py3-none-any.whl (55 kB)\n",
      "Collecting filetype~=1.2.0\n",
      "  Downloading filetype-1.2.0-py2.py3-none-any.whl (19 kB)\n",
      "Collecting imagehash~=4.3.1\n",
      "  Downloading ImageHash-4.3.1-py2.py3-none-any.whl (296 kB)\n",
      "Collecting uvicorn~=0.20.0\n",
      "  Downloading uvicorn-0.20.0-py3-none-any.whl (56 kB)\n",
      "Requirement already satisfied: aiohttp~=3.8.1 in c:\\users\\ayuba\\anaconda3\\lib\\site-packages (from rembg) (3.8.1)\n",
      "Collecting scipy~=1.9.3\n",
      "  Downloading scipy-1.9.3-cp39-cp39-win_amd64.whl (40.2 MB)\n",
      "Collecting numpy~=1.23.5\n",
      "  Downloading numpy-1.23.5-cp39-cp39-win_amd64.whl (14.7 MB)\n",
      "Collecting opencv-python-headless~=4.6.0.66\n",
      "  Downloading opencv_python_headless-4.6.0.66-cp36-abi3-win_amd64.whl (35.5 MB)\n",
      "Collecting pymatting~=1.1.8\n",
      "  Downloading PyMatting-1.1.8-py3-none-any.whl (47 kB)\n",
      "Collecting pooch~=1.6.0\n",
      "  Downloading pooch-1.6.0-py3-none-any.whl (56 kB)\n",
      "Collecting watchdog~=2.1.9\n",
      "  Downloading watchdog-2.1.9-py3-none-win_amd64.whl (78 kB)\n",
      "Collecting pillow~=9.3.0\n",
      "  Downloading Pillow-9.3.0-cp39-cp39-win_amd64.whl (2.5 MB)\n",
      "Collecting onnxruntime~=1.13.1\n",
      "  Downloading onnxruntime-1.13.1-cp39-cp39-win_amd64.whl (5.9 MB)\n",
      "Requirement already satisfied: multidict<7.0,>=4.5 in c:\\users\\ayuba\\anaconda3\\lib\\site-packages (from aiohttp~=3.8.1->rembg) (5.1.0)\n",
      "Requirement already satisfied: frozenlist>=1.1.1 in c:\\users\\ayuba\\anaconda3\\lib\\site-packages (from aiohttp~=3.8.1->rembg) (1.2.0)\n",
      "Requirement already satisfied: aiosignal>=1.1.2 in c:\\users\\ayuba\\anaconda3\\lib\\site-packages (from aiohttp~=3.8.1->rembg) (1.2.0)\n",
      "Requirement already satisfied: yarl<2.0,>=1.0 in c:\\users\\ayuba\\anaconda3\\lib\\site-packages (from aiohttp~=3.8.1->rembg) (1.6.3)\n",
      "Requirement already satisfied: attrs>=17.3.0 in c:\\users\\ayuba\\anaconda3\\lib\\site-packages (from aiohttp~=3.8.1->rembg) (21.4.0)\n",
      "Requirement already satisfied: async-timeout<5.0,>=4.0.0a3 in c:\\users\\ayuba\\anaconda3\\lib\\site-packages (from aiohttp~=3.8.1->rembg) (4.0.1)\n",
      "Requirement already satisfied: charset-normalizer<3.0,>=2.0 in c:\\users\\ayuba\\anaconda3\\lib\\site-packages (from aiohttp~=3.8.1->rembg) (2.0.4)\n",
      "Requirement already satisfied: typing-extensions>=3.6.5 in c:\\users\\ayuba\\anaconda3\\lib\\site-packages (from async-timeout<5.0,>=4.0.0a3->aiohttp~=3.8.1->rembg) (4.1.1)\n",
      "Requirement already satisfied: anyio<4.0.0,>=3.4.0 in c:\\users\\ayuba\\anaconda3\\lib\\site-packages (from asyncer~=0.0.2->rembg) (3.5.0)\n",
      "Requirement already satisfied: sniffio>=1.1 in c:\\users\\ayuba\\anaconda3\\lib\\site-packages (from anyio<4.0.0,>=3.4.0->asyncer~=0.0.2->rembg) (1.2.0)\n",
      "Requirement already satisfied: idna>=2.8 in c:\\users\\ayuba\\anaconda3\\lib\\site-packages (from anyio<4.0.0,>=3.4.0->asyncer~=0.0.2->rembg) (3.3)\n",
      "Requirement already satisfied: colorama in c:\\users\\ayuba\\anaconda3\\lib\\site-packages (from click~=8.1.3->rembg) (0.4.4)\n",
      "Collecting pydantic!=1.7,!=1.7.1,!=1.7.2,!=1.7.3,!=1.8,!=1.8.1,<2.0.0,>=1.6.2\n",
      "  Downloading pydantic-1.10.5-cp39-cp39-win_amd64.whl (2.2 MB)\n",
      "Collecting starlette==0.21.0\n",
      "  Downloading starlette-0.21.0-py3-none-any.whl (64 kB)\n",
      "Requirement already satisfied: PyWavelets in c:\\users\\ayuba\\anaconda3\\lib\\site-packages (from imagehash~=4.3.1->rembg) (1.3.0)\n",
      "Requirement already satisfied: packaging in c:\\users\\ayuba\\anaconda3\\lib\\site-packages (from onnxruntime~=1.13.1->rembg) (21.3)\n",
      "Requirement already satisfied: protobuf in c:\\users\\ayuba\\anaconda3\\lib\\site-packages (from onnxruntime~=1.13.1->rembg) (3.19.1)\n",
      "Collecting coloredlogs\n",
      "  Downloading coloredlogs-15.0.1-py2.py3-none-any.whl (46 kB)\n",
      "Requirement already satisfied: sympy in c:\\users\\ayuba\\anaconda3\\lib\\site-packages (from onnxruntime~=1.13.1->rembg) (1.10.1)\n",
      "Collecting flatbuffers\n",
      "  Downloading flatbuffers-23.1.21-py2.py3-none-any.whl (26 kB)\n",
      "Requirement already satisfied: appdirs>=1.3.0 in c:\\users\\ayuba\\anaconda3\\lib\\site-packages (from pooch~=1.6.0->rembg) (1.4.4)\n",
      "Requirement already satisfied: requests>=2.19.0 in c:\\users\\ayuba\\anaconda3\\lib\\site-packages (from pooch~=1.6.0->rembg) (2.27.1)\n",
      "Requirement already satisfied: pyparsing!=3.0.5,>=2.0.2 in c:\\users\\ayuba\\anaconda3\\lib\\site-packages (from packaging->onnxruntime~=1.13.1->rembg) (3.0.4)\n",
      "Collecting typing-extensions>=3.6.5\n",
      "  Downloading typing_extensions-4.5.0-py3-none-any.whl (27 kB)\n",
      "Requirement already satisfied: numba!=0.49.0 in c:\\users\\ayuba\\anaconda3\\lib\\site-packages (from pymatting~=1.1.8->rembg) (0.55.1)\n",
      "Requirement already satisfied: llvmlite<0.39,>=0.38.0rc1 in c:\\users\\ayuba\\anaconda3\\lib\\site-packages (from numba!=0.49.0->pymatting~=1.1.8->rembg) (0.38.0)\n",
      "Collecting numba!=0.49.0\n",
      "  Downloading numba-0.56.4-cp39-cp39-win_amd64.whl (2.5 MB)\n",
      "Requirement already satisfied: setuptools in c:\\users\\ayuba\\anaconda3\\lib\\site-packages (from numba!=0.49.0->pymatting~=1.1.8->rembg) (61.2.0)\n",
      "Collecting llvmlite<0.40,>=0.39.0dev0\n",
      "  Downloading llvmlite-0.39.1-cp39-cp39-win_amd64.whl (23.2 MB)\n",
      "Requirement already satisfied: urllib3<1.27,>=1.21.1 in c:\\users\\ayuba\\anaconda3\\lib\\site-packages (from requests>=2.19.0->pooch~=1.6.0->rembg) (1.26.9)\n",
      "Requirement already satisfied: certifi>=2017.4.17 in c:\\users\\ayuba\\anaconda3\\lib\\site-packages (from requests>=2.19.0->pooch~=1.6.0->rembg) (2021.10.8)\n",
      "Requirement already satisfied: imageio>=2.4.1 in c:\\users\\ayuba\\anaconda3\\lib\\site-packages (from scikit-image~=0.19.3->rembg) (2.9.0)\n",
      "Requirement already satisfied: tifffile>=2019.7.26 in c:\\users\\ayuba\\anaconda3\\lib\\site-packages (from scikit-image~=0.19.3->rembg) (2021.7.2)\n",
      "Requirement already satisfied: networkx>=2.2 in c:\\users\\ayuba\\anaconda3\\lib\\site-packages (from scikit-image~=0.19.3->rembg) (2.7.1)\n",
      "Collecting h11>=0.8\n",
      "  Downloading h11-0.14.0-py3-none-any.whl (58 kB)\n",
      "Collecting humanfriendly>=9.1\n",
      "  Downloading humanfriendly-10.0-py2.py3-none-any.whl (86 kB)\n",
      "Collecting pyreadline3\n",
      "  Downloading pyreadline3-3.4.1-py3-none-any.whl (95 kB)\n",
      "Requirement already satisfied: mpmath>=0.19 in c:\\users\\ayuba\\anaconda3\\lib\\site-packages (from sympy->onnxruntime~=1.13.1->rembg) (1.2.1)\n",
      "Installing collected packages: pyreadline3, typing-extensions, pillow, numpy, llvmlite, humanfriendly, starlette, scipy, pydantic, numba, h11, flatbuffers, coloredlogs, click, watchdog, uvicorn, tqdm, scikit-image, python-multipart, pymatting, pooch, opencv-python-headless, onnxruntime, imagehash, filetype, fastapi, asyncer, rembg\n",
      "  Attempting uninstall: typing-extensions\n",
      "    Found existing installation: typing-extensions 4.1.1\n",
      "    Uninstalling typing-extensions-4.1.1:\n",
      "      Successfully uninstalled typing-extensions-4.1.1\n",
      "  Attempting uninstall: pillow\n",
      "    Found existing installation: Pillow 9.0.1\n",
      "    Uninstalling Pillow-9.0.1:\n",
      "      Successfully uninstalled Pillow-9.0.1\n",
      "  Attempting uninstall: numpy\n",
      "    Found existing installation: numpy 1.21.5\n",
      "    Uninstalling numpy-1.21.5:\n",
      "      Successfully uninstalled numpy-1.21.5\n",
      "  Attempting uninstall: llvmlite\n",
      "    Found existing installation: llvmlite 0.38.0\n"
     ]
    }
   ],
   "source": [
    "!pip install rembg"
   ]
  },
  {
   "cell_type": "code",
   "execution_count": null,
   "id": "770b4e83",
   "metadata": {},
   "outputs": [],
   "source": [
    "from rembg import remove\n",
    "from PIL import image\n",
    "input_path = "
   ]
  }
 ],
 "metadata": {
  "kernelspec": {
   "display_name": "Python 3 (ipykernel)",
   "language": "python",
   "name": "python3"
  },
  "language_info": {
   "codemirror_mode": {
    "name": "ipython",
    "version": 3
   },
   "file_extension": ".py",
   "mimetype": "text/x-python",
   "name": "python",
   "nbconvert_exporter": "python",
   "pygments_lexer": "ipython3",
   "version": "3.9.12"
  }
 },
 "nbformat": 4,
 "nbformat_minor": 5
}
