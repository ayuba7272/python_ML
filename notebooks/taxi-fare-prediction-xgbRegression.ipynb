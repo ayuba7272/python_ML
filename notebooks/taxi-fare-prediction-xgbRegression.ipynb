{
 "cells": [
  {
   "cell_type": "code",
   "execution_count": 1,
   "id": "608d3d5f",
   "metadata": {
    "_cell_guid": "b1076dfc-b9ad-4769-8c92-a6c4dae69d19",
    "_uuid": "8f2839f25d086af736a60e9eeb907d3b93b6e0e5",
    "execution": {
     "iopub.execute_input": "2023-12-28T04:45:27.794207Z",
     "iopub.status.busy": "2023-12-28T04:45:27.793821Z",
     "iopub.status.idle": "2023-12-28T04:45:30.595767Z",
     "shell.execute_reply": "2023-12-28T04:45:30.594662Z"
    },
    "papermill": {
     "duration": 2.817652,
     "end_time": "2023-12-28T04:45:30.597995",
     "exception": false,
     "start_time": "2023-12-28T04:45:27.780343",
     "status": "completed"
    },
    "tags": []
   },
   "outputs": [
    {
     "name": "stderr",
     "output_type": "stream",
     "text": [
      "/opt/conda/lib/python3.10/site-packages/scipy/__init__.py:146: UserWarning: A NumPy version >=1.16.5 and <1.23.0 is required for this version of SciPy (detected version 1.24.3\n",
      "  warnings.warn(f\"A NumPy version >={np_minversion} and <{np_maxversion}\"\n"
     ]
    },
    {
     "name": "stdout",
     "output_type": "stream",
     "text": [
      "/kaggle/input/taxi-trip-fare-prediction/taxi_fare/submission.csv\n",
      "/kaggle/input/taxi-trip-fare-prediction/taxi_fare/train.csv\n",
      "/kaggle/input/taxi-trip-fare-prediction/taxi_fare/test.csv\n"
     ]
    }
   ],
   "source": [
    "# This Python 3 environment comes with many helpful analytics libraries installed\n",
    "# It is defined by the kaggle/python Docker image: https://github.com/kaggle/docker-python\n",
    "# For example, here's several helpful packages to load\n",
    "\n",
    "import numpy as np # linear algebra\n",
    "import pandas as pd # data processing, CSV file I/O (e.g. pd.read_csv)\n",
    "import matplotlib.pyplot as plt\n",
    "import seaborn as sns\n",
    "\n",
    "# Input data files are available in the read-only \"../input/\" directory\n",
    "# For example, running this (by clicking run or pressing Shift+Enter) will list all files under the input directory\n",
    "\n",
    "import os\n",
    "for dirname, _, filenames in os.walk('/kaggle/input'):\n",
    "    for filename in filenames:\n",
    "        print(os.path.join(dirname, filename))\n",
    "\n",
    "# You can write up to 20GB to the current directory (/kaggle/working/) that gets preserved as output when you create a version using \"Save & Run All\" \n",
    "# You can also write temporary files to /kaggle/temp/, but they won't be saved outside of the current session"
   ]
  },
  {
   "cell_type": "code",
   "execution_count": 2,
   "id": "e1643fc4",
   "metadata": {
    "execution": {
     "iopub.execute_input": "2023-12-28T04:45:30.622907Z",
     "iopub.status.busy": "2023-12-28T04:45:30.622530Z",
     "iopub.status.idle": "2023-12-28T04:45:30.964745Z",
     "shell.execute_reply": "2023-12-28T04:45:30.963699Z"
    },
    "papermill": {
     "duration": 0.357414,
     "end_time": "2023-12-28T04:45:30.967315",
     "exception": false,
     "start_time": "2023-12-28T04:45:30.609901",
     "status": "completed"
    },
    "tags": []
   },
   "outputs": [
    {
     "data": {
      "text/html": [
       "<div>\n",
       "<style scoped>\n",
       "    .dataframe tbody tr th:only-of-type {\n",
       "        vertical-align: middle;\n",
       "    }\n",
       "\n",
       "    .dataframe tbody tr th {\n",
       "        vertical-align: top;\n",
       "    }\n",
       "\n",
       "    .dataframe thead th {\n",
       "        text-align: right;\n",
       "    }\n",
       "</style>\n",
       "<table border=\"1\" class=\"dataframe\">\n",
       "  <thead>\n",
       "    <tr style=\"text-align: right;\">\n",
       "      <th></th>\n",
       "      <th>trip_duration</th>\n",
       "      <th>distance_traveled</th>\n",
       "      <th>num_of_passengers</th>\n",
       "      <th>fare</th>\n",
       "      <th>tip</th>\n",
       "      <th>miscellaneous_fees</th>\n",
       "      <th>total_fare</th>\n",
       "      <th>surge_applied</th>\n",
       "    </tr>\n",
       "  </thead>\n",
       "  <tbody>\n",
       "    <tr>\n",
       "      <th>0</th>\n",
       "      <td>748.0</td>\n",
       "      <td>2.75</td>\n",
       "      <td>1.0</td>\n",
       "      <td>75.00</td>\n",
       "      <td>24</td>\n",
       "      <td>6.300</td>\n",
       "      <td>105.300</td>\n",
       "      <td>0</td>\n",
       "    </tr>\n",
       "    <tr>\n",
       "      <th>1</th>\n",
       "      <td>1187.0</td>\n",
       "      <td>3.43</td>\n",
       "      <td>1.0</td>\n",
       "      <td>105.00</td>\n",
       "      <td>24</td>\n",
       "      <td>13.200</td>\n",
       "      <td>142.200</td>\n",
       "      <td>0</td>\n",
       "    </tr>\n",
       "    <tr>\n",
       "      <th>2</th>\n",
       "      <td>730.0</td>\n",
       "      <td>3.12</td>\n",
       "      <td>1.0</td>\n",
       "      <td>71.25</td>\n",
       "      <td>0</td>\n",
       "      <td>26.625</td>\n",
       "      <td>97.875</td>\n",
       "      <td>1</td>\n",
       "    </tr>\n",
       "    <tr>\n",
       "      <th>3</th>\n",
       "      <td>671.0</td>\n",
       "      <td>5.63</td>\n",
       "      <td>3.0</td>\n",
       "      <td>90.00</td>\n",
       "      <td>0</td>\n",
       "      <td>9.750</td>\n",
       "      <td>99.750</td>\n",
       "      <td>0</td>\n",
       "    </tr>\n",
       "    <tr>\n",
       "      <th>4</th>\n",
       "      <td>329.0</td>\n",
       "      <td>2.09</td>\n",
       "      <td>1.0</td>\n",
       "      <td>45.00</td>\n",
       "      <td>12</td>\n",
       "      <td>13.200</td>\n",
       "      <td>70.200</td>\n",
       "      <td>0</td>\n",
       "    </tr>\n",
       "  </tbody>\n",
       "</table>\n",
       "</div>"
      ],
      "text/plain": [
       "   trip_duration  distance_traveled  num_of_passengers    fare  tip  \\\n",
       "0          748.0               2.75                1.0   75.00   24   \n",
       "1         1187.0               3.43                1.0  105.00   24   \n",
       "2          730.0               3.12                1.0   71.25    0   \n",
       "3          671.0               5.63                3.0   90.00    0   \n",
       "4          329.0               2.09                1.0   45.00   12   \n",
       "\n",
       "   miscellaneous_fees  total_fare  surge_applied  \n",
       "0               6.300     105.300              0  \n",
       "1              13.200     142.200              0  \n",
       "2              26.625      97.875              1  \n",
       "3               9.750      99.750              0  \n",
       "4              13.200      70.200              0  "
      ]
     },
     "execution_count": 2,
     "metadata": {},
     "output_type": "execute_result"
    }
   ],
   "source": [
    "train_df = pd.read_csv(\"/kaggle/input/taxi-trip-fare-prediction/taxi_fare/train.csv\")\n",
    "train_df.head()"
   ]
  },
  {
   "cell_type": "code",
   "execution_count": 3,
   "id": "a7bc89e4",
   "metadata": {
    "execution": {
     "iopub.execute_input": "2023-12-28T04:45:30.994399Z",
     "iopub.status.busy": "2023-12-28T04:45:30.993503Z",
     "iopub.status.idle": "2023-12-28T04:45:31.106929Z",
     "shell.execute_reply": "2023-12-28T04:45:31.106018Z"
    },
    "papermill": {
     "duration": 0.128723,
     "end_time": "2023-12-28T04:45:31.109086",
     "exception": false,
     "start_time": "2023-12-28T04:45:30.980363",
     "status": "completed"
    },
    "tags": []
   },
   "outputs": [
    {
     "data": {
      "text/html": [
       "<div>\n",
       "<style scoped>\n",
       "    .dataframe tbody tr th:only-of-type {\n",
       "        vertical-align: middle;\n",
       "    }\n",
       "\n",
       "    .dataframe tbody tr th {\n",
       "        vertical-align: top;\n",
       "    }\n",
       "\n",
       "    .dataframe thead th {\n",
       "        text-align: right;\n",
       "    }\n",
       "</style>\n",
       "<table border=\"1\" class=\"dataframe\">\n",
       "  <thead>\n",
       "    <tr style=\"text-align: right;\">\n",
       "      <th></th>\n",
       "      <th>trip_duration</th>\n",
       "      <th>distance_traveled</th>\n",
       "      <th>num_of_passengers</th>\n",
       "      <th>fare</th>\n",
       "      <th>tip</th>\n",
       "      <th>miscellaneous_fees</th>\n",
       "      <th>total_fare</th>\n",
       "      <th>surge_applied</th>\n",
       "    </tr>\n",
       "  </thead>\n",
       "  <tbody>\n",
       "    <tr>\n",
       "      <th>0</th>\n",
       "      <td>1076.0</td>\n",
       "      <td>4.18</td>\n",
       "      <td>1.0</td>\n",
       "      <td>0</td>\n",
       "      <td>0</td>\n",
       "      <td>13.500</td>\n",
       "      <td>0</td>\n",
       "      <td>0</td>\n",
       "    </tr>\n",
       "    <tr>\n",
       "      <th>1</th>\n",
       "      <td>429.0</td>\n",
       "      <td>1.48</td>\n",
       "      <td>4.0</td>\n",
       "      <td>0</td>\n",
       "      <td>0</td>\n",
       "      <td>13.500</td>\n",
       "      <td>0</td>\n",
       "      <td>0</td>\n",
       "    </tr>\n",
       "    <tr>\n",
       "      <th>2</th>\n",
       "      <td>856.0</td>\n",
       "      <td>4.15</td>\n",
       "      <td>1.0</td>\n",
       "      <td>0</td>\n",
       "      <td>24</td>\n",
       "      <td>6.000</td>\n",
       "      <td>0</td>\n",
       "      <td>0</td>\n",
       "    </tr>\n",
       "    <tr>\n",
       "      <th>3</th>\n",
       "      <td>622.0</td>\n",
       "      <td>3.22</td>\n",
       "      <td>1.0</td>\n",
       "      <td>0</td>\n",
       "      <td>15</td>\n",
       "      <td>5.625</td>\n",
       "      <td>0</td>\n",
       "      <td>0</td>\n",
       "    </tr>\n",
       "    <tr>\n",
       "      <th>4</th>\n",
       "      <td>507.0</td>\n",
       "      <td>3.98</td>\n",
       "      <td>1.0</td>\n",
       "      <td>0</td>\n",
       "      <td>0</td>\n",
       "      <td>2.250</td>\n",
       "      <td>0</td>\n",
       "      <td>0</td>\n",
       "    </tr>\n",
       "  </tbody>\n",
       "</table>\n",
       "</div>"
      ],
      "text/plain": [
       "   trip_duration  distance_traveled  num_of_passengers  fare  tip  \\\n",
       "0         1076.0               4.18                1.0     0    0   \n",
       "1          429.0               1.48                4.0     0    0   \n",
       "2          856.0               4.15                1.0     0   24   \n",
       "3          622.0               3.22                1.0     0   15   \n",
       "4          507.0               3.98                1.0     0    0   \n",
       "\n",
       "   miscellaneous_fees  total_fare  surge_applied  \n",
       "0              13.500           0              0  \n",
       "1              13.500           0              0  \n",
       "2               6.000           0              0  \n",
       "3               5.625           0              0  \n",
       "4               2.250           0              0  "
      ]
     },
     "execution_count": 3,
     "metadata": {},
     "output_type": "execute_result"
    }
   ],
   "source": [
    "test_df = pd.read_csv(\"/kaggle/input/taxi-trip-fare-prediction/taxi_fare/test.csv\")\n",
    "test_df.head()"
   ]
  },
  {
   "cell_type": "code",
   "execution_count": 4,
   "id": "0d36f3fc",
   "metadata": {
    "execution": {
     "iopub.execute_input": "2023-12-28T04:45:31.135029Z",
     "iopub.status.busy": "2023-12-28T04:45:31.134715Z",
     "iopub.status.idle": "2023-12-28T04:45:31.158615Z",
     "shell.execute_reply": "2023-12-28T04:45:31.157776Z"
    },
    "papermill": {
     "duration": 0.038984,
     "end_time": "2023-12-28T04:45:31.160601",
     "exception": false,
     "start_time": "2023-12-28T04:45:31.121617",
     "status": "completed"
    },
    "tags": []
   },
   "outputs": [
    {
     "data": {
      "text/html": [
       "<div>\n",
       "<style scoped>\n",
       "    .dataframe tbody tr th:only-of-type {\n",
       "        vertical-align: middle;\n",
       "    }\n",
       "\n",
       "    .dataframe tbody tr th {\n",
       "        vertical-align: top;\n",
       "    }\n",
       "\n",
       "    .dataframe thead th {\n",
       "        text-align: right;\n",
       "    }\n",
       "</style>\n",
       "<table border=\"1\" class=\"dataframe\">\n",
       "  <thead>\n",
       "    <tr style=\"text-align: right;\">\n",
       "      <th></th>\n",
       "      <th>total_fare</th>\n",
       "    </tr>\n",
       "  </thead>\n",
       "  <tbody>\n",
       "    <tr>\n",
       "      <th>0</th>\n",
       "      <td>0.0</td>\n",
       "    </tr>\n",
       "    <tr>\n",
       "      <th>1</th>\n",
       "      <td>0.0</td>\n",
       "    </tr>\n",
       "    <tr>\n",
       "      <th>2</th>\n",
       "      <td>0.0</td>\n",
       "    </tr>\n",
       "    <tr>\n",
       "      <th>3</th>\n",
       "      <td>0.0</td>\n",
       "    </tr>\n",
       "    <tr>\n",
       "      <th>4</th>\n",
       "      <td>0.0</td>\n",
       "    </tr>\n",
       "  </tbody>\n",
       "</table>\n",
       "</div>"
      ],
      "text/plain": [
       "   total_fare\n",
       "0         0.0\n",
       "1         0.0\n",
       "2         0.0\n",
       "3         0.0\n",
       "4         0.0"
      ]
     },
     "execution_count": 4,
     "metadata": {},
     "output_type": "execute_result"
    }
   ],
   "source": [
    "submissions_df = pd.read_csv(\"/kaggle/input/taxi-trip-fare-prediction/taxi_fare/submission.csv\")\n",
    "submissions_df.head()"
   ]
  },
  {
   "cell_type": "markdown",
   "id": "59edca57",
   "metadata": {
    "papermill": {
     "duration": 0.012426,
     "end_time": "2023-12-28T04:45:31.185368",
     "exception": false,
     "start_time": "2023-12-28T04:45:31.172942",
     "status": "completed"
    },
    "tags": []
   },
   "source": [
    "* The `total_fare` column in the test_df is all 0, hence that data is only for the final prediction\n",
    "* The `total_fare` column in the submissions_df is also full 0, hence that is just the output format. Both these datasets have 89860 rows"
   ]
  },
  {
   "cell_type": "code",
   "execution_count": 5,
   "id": "01e103bd",
   "metadata": {
    "execution": {
     "iopub.execute_input": "2023-12-28T04:45:31.210585Z",
     "iopub.status.busy": "2023-12-28T04:45:31.210312Z",
     "iopub.status.idle": "2023-12-28T04:45:31.240963Z",
     "shell.execute_reply": "2023-12-28T04:45:31.239983Z"
    },
    "papermill": {
     "duration": 0.045433,
     "end_time": "2023-12-28T04:45:31.242846",
     "exception": false,
     "start_time": "2023-12-28T04:45:31.197413",
     "status": "completed"
    },
    "tags": []
   },
   "outputs": [
    {
     "name": "stdout",
     "output_type": "stream",
     "text": [
      "<class 'pandas.core.frame.DataFrame'>\n",
      "RangeIndex: 209673 entries, 0 to 209672\n",
      "Data columns (total 8 columns):\n",
      " #   Column              Non-Null Count   Dtype  \n",
      "---  ------              --------------   -----  \n",
      " 0   trip_duration       209673 non-null  float64\n",
      " 1   distance_traveled   209673 non-null  float64\n",
      " 2   num_of_passengers   209673 non-null  float64\n",
      " 3   fare                209673 non-null  float64\n",
      " 4   tip                 209673 non-null  int64  \n",
      " 5   miscellaneous_fees  209673 non-null  float64\n",
      " 6   total_fare          209673 non-null  float64\n",
      " 7   surge_applied       209673 non-null  int64  \n",
      "dtypes: float64(6), int64(2)\n",
      "memory usage: 12.8 MB\n"
     ]
    }
   ],
   "source": [
    "train_df.info()"
   ]
  },
  {
   "cell_type": "code",
   "execution_count": 6,
   "id": "c32d6094",
   "metadata": {
    "execution": {
     "iopub.execute_input": "2023-12-28T04:45:31.268218Z",
     "iopub.status.busy": "2023-12-28T04:45:31.267921Z",
     "iopub.status.idle": "2023-12-28T04:45:31.276720Z",
     "shell.execute_reply": "2023-12-28T04:45:31.275666Z"
    },
    "papermill": {
     "duration": 0.023623,
     "end_time": "2023-12-28T04:45:31.278569",
     "exception": false,
     "start_time": "2023-12-28T04:45:31.254946",
     "status": "completed"
    },
    "tags": []
   },
   "outputs": [
    {
     "name": "stdout",
     "output_type": "stream",
     "text": [
      "<class 'pandas.core.frame.DataFrame'>\n",
      "RangeIndex: 89861 entries, 0 to 89860\n",
      "Data columns (total 8 columns):\n",
      " #   Column              Non-Null Count  Dtype  \n",
      "---  ------              --------------  -----  \n",
      " 0   trip_duration       89861 non-null  float64\n",
      " 1   distance_traveled   89861 non-null  float64\n",
      " 2   num_of_passengers   89861 non-null  float64\n",
      " 3   fare                89861 non-null  int64  \n",
      " 4   tip                 89861 non-null  int64  \n",
      " 5   miscellaneous_fees  89861 non-null  float64\n",
      " 6   total_fare          89861 non-null  int64  \n",
      " 7   surge_applied       89861 non-null  int64  \n",
      "dtypes: float64(4), int64(4)\n",
      "memory usage: 5.5 MB\n"
     ]
    }
   ],
   "source": [
    "test_df.info()"
   ]
  },
  {
   "cell_type": "code",
   "execution_count": 7,
   "id": "ef487ebe",
   "metadata": {
    "execution": {
     "iopub.execute_input": "2023-12-28T04:45:31.304074Z",
     "iopub.status.busy": "2023-12-28T04:45:31.303783Z",
     "iopub.status.idle": "2023-12-28T04:45:31.310060Z",
     "shell.execute_reply": "2023-12-28T04:45:31.309303Z"
    },
    "papermill": {
     "duration": 0.021184,
     "end_time": "2023-12-28T04:45:31.311921",
     "exception": false,
     "start_time": "2023-12-28T04:45:31.290737",
     "status": "completed"
    },
    "tags": []
   },
   "outputs": [],
   "source": [
    "#Function to show correlation matrix between all variables\n",
    "def corr_matrix (df=None,method=None,show_values = True, return_flag = False):\n",
    "    '''\n",
    "    Function returns correlation of all variables with each other\n",
    "    \n",
    "    Parameters:\n",
    "        df          : The dataframe with all variables\n",
    "        method      : 'pearson','kendall','spearman'; Default is 'pearson'\n",
    "        show_values : Boolean, Default True\n",
    "    \n",
    "    Returns:\n",
    "        Correlation Matrix dataframe, if return_flag set to True. Returns nothing by default\n",
    "    '''\n",
    "    if method == None:\n",
    "        method = 'pearson' \n",
    "    corr_name = method+'corr'\n",
    "    df_corr = df.corr(method)\n",
    "    plt.figure(figsize = (12,10))\n",
    "    if show_values == True: sns.heatmap(df_corr,cmap = 'coolwarm',annot=True)\n",
    "    else: sns.heatmap(df_corr,cmap = 'coolwarm')\n",
    "    \n",
    "    if return_flag == True: return df_corr\n",
    "    else : return\n"
   ]
  },
  {
   "cell_type": "code",
   "execution_count": 8,
   "id": "c1955c94",
   "metadata": {
    "execution": {
     "iopub.execute_input": "2023-12-28T04:45:31.337705Z",
     "iopub.status.busy": "2023-12-28T04:45:31.337447Z",
     "iopub.status.idle": "2023-12-28T04:45:32.040154Z",
     "shell.execute_reply": "2023-12-28T04:45:32.039058Z"
    },
    "papermill": {
     "duration": 0.718988,
     "end_time": "2023-12-28T04:45:32.043251",
     "exception": false,
     "start_time": "2023-12-28T04:45:31.324263",
     "status": "completed"
    },
    "tags": []
   },
   "outputs": [
    {
     "data": {
      "image/png": "[encoded data removed]",
      "text/plain": [
       "<Figure size 1200x1000 with 2 Axes>"
      ]
     },
     "metadata": {},
     "output_type": "display_data"
    }
   ],
   "source": [
    "corr_matrix (train_df)"
   ]
  },
  {
   "cell_type": "markdown",
   "id": "fe5ba73c",
   "metadata": {
    "papermill": {
     "duration": 0.013957,
     "end_time": "2023-12-28T04:45:32.071344",
     "exception": false,
     "start_time": "2023-12-28T04:45:32.057387",
     "status": "completed"
    },
    "tags": []
   },
   "source": [
    "* `fare` and `total_fare` are highly correlated, and the guess if either of them have to be predicted, so choosing to drop `fare`\n",
    "* `surge_applied` is also highly correlated with `miscellaeous_fees`, so will drop `surge_applied` as well\n",
    "* Using the remianing features, I will model for `total_fare`"
   ]
  },
  {
   "cell_type": "code",
   "execution_count": 9,
   "id": "4e9bcb81",
   "metadata": {
    "execution": {
     "iopub.execute_input": "2023-12-28T04:45:32.101016Z",
     "iopub.status.busy": "2023-12-28T04:45:32.100652Z",
     "iopub.status.idle": "2023-12-28T04:45:32.111536Z",
     "shell.execute_reply": "2023-12-28T04:45:32.110771Z"
    },
    "papermill": {
     "duration": 0.027998,
     "end_time": "2023-12-28T04:45:32.113341",
     "exception": false,
     "start_time": "2023-12-28T04:45:32.085343",
     "status": "completed"
    },
    "tags": []
   },
   "outputs": [],
   "source": [
    "def show_distribution(df=None,variable_name='',\n",
    "                      pctl = [1, 10, 20, 25, 30 , 33, 40 , 50 , 60 , 67, 70, 75, 80 , 90 , 99], \n",
    "                      plot= True, bins = 50,\n",
    "                      decimals_ = 2):\n",
    "    '''\n",
    "    This function shows the distribution (Histogram plot) of any variable and returns some important percentile values of the variable\n",
    "    Parameters:\n",
    "        df            : The pandas dataframe that contains this variable data\n",
    "        varaible_name : String, Name of the variable for which the distribution should be shown\n",
    "        pctl          : List of Percentile values that should be returned (1 to 100 in multiples of 1)\n",
    "        plot          : Boolean, Default True; Will plot a histogram if set to True\n",
    "        bins          : The number of bins into which the data should be plotted on the histogram\n",
    "        decimals_     : # of decimals shown for the varaible\n",
    "    '''\n",
    "    percentil = df[variable_name].quantile(np.linspace(.01, 1, 99, 0), 'lower')\n",
    "    op = percentil.to_frame().reset_index()\n",
    "    op.index = op.index+1.\n",
    "    op = op[op.index.isin(pctl)]\n",
    "    op.rename(columns = {'index': 'Percentile'},inplace=True)\n",
    "    op.loc[len(op.index)] = [0, df[variable_name].min()]\n",
    "    op.loc[len(op.index)] = [1, df[variable_name].max()]\n",
    "    op['Percentile'] = 'p_'+ (op['Percentile']*100).astype(int).astype(str).str.zfill(2)\n",
    "    op.loc[len(op.index)] = ['AVG', df[variable_name].mean()]\n",
    "    op.sort_values(by=[variable_name,'Percentile'],inplace = True)\n",
    "    op.reset_index(inplace=True,drop=True)\n",
    "    op[variable_name] = op[variable_name].round(decimals_)\n",
    "    if plot == True:\n",
    "        plt.figure(figsize = (20,8))\n",
    "        sns.histplot(x=df[variable_name], bins = bins, kde= True)\n",
    "    return op"
   ]
  },
  {
   "cell_type": "code",
   "execution_count": 10,
   "id": "c13af712",
   "metadata": {
    "execution": {
     "iopub.execute_input": "2023-12-28T04:45:32.182677Z",
     "iopub.status.busy": "2023-12-28T04:45:32.182350Z",
     "iopub.status.idle": "2023-12-28T04:45:33.514791Z",
     "shell.execute_reply": "2023-12-28T04:45:33.513848Z"
    },
    "papermill": {
     "duration": 1.349674,
     "end_time": "2023-12-28T04:45:33.516920",
     "exception": false,
     "start_time": "2023-12-28T04:45:32.167246",
     "status": "completed"
    },
    "tags": []
   },
   "outputs": [
    {
     "name": "stderr",
     "output_type": "stream",
     "text": [
      "/opt/conda/lib/python3.10/site-packages/seaborn/_oldcore.py:1119: FutureWarning: use_inf_as_na option is deprecated and will be removed in a future version. Convert inf values to NaN before operating instead.\n",
      "  with pd.option_context('mode.use_inf_as_na', True):\n"
     ]
    },
    {
     "data": {
      "text/html": [
       "<div>\n",
       "<style scoped>\n",
       "    .dataframe tbody tr th:only-of-type {\n",
       "        vertical-align: middle;\n",
       "    }\n",
       "\n",
       "    .dataframe tbody tr th {\n",
       "        vertical-align: top;\n",
       "    }\n",
       "\n",
       "    .dataframe thead th {\n",
       "        text-align: right;\n",
       "    }\n",
       "</style>\n",
       "<table border=\"1\" class=\"dataframe\">\n",
       "  <thead>\n",
       "    <tr style=\"text-align: right;\">\n",
       "      <th></th>\n",
       "      <th>Percentile</th>\n",
       "      <th>total_fare</th>\n",
       "    </tr>\n",
       "  </thead>\n",
       "  <tbody>\n",
       "    <tr>\n",
       "      <th>0</th>\n",
       "      <td>p_00</td>\n",
       "      <td>0.00</td>\n",
       "    </tr>\n",
       "    <tr>\n",
       "      <th>1</th>\n",
       "      <td>p_01</td>\n",
       "      <td>32.25</td>\n",
       "    </tr>\n",
       "    <tr>\n",
       "      <th>2</th>\n",
       "      <td>p_10</td>\n",
       "      <td>54.75</td>\n",
       "    </tr>\n",
       "    <tr>\n",
       "      <th>3</th>\n",
       "      <td>p_20</td>\n",
       "      <td>66.00</td>\n",
       "    </tr>\n",
       "    <tr>\n",
       "      <th>4</th>\n",
       "      <td>p_25</td>\n",
       "      <td>70.20</td>\n",
       "    </tr>\n",
       "    <tr>\n",
       "      <th>5</th>\n",
       "      <td>p_30</td>\n",
       "      <td>77.25</td>\n",
       "    </tr>\n",
       "    <tr>\n",
       "      <th>6</th>\n",
       "      <td>p_33</td>\n",
       "      <td>79.20</td>\n",
       "    </tr>\n",
       "    <tr>\n",
       "      <th>7</th>\n",
       "      <td>p_40</td>\n",
       "      <td>88.20</td>\n",
       "    </tr>\n",
       "    <tr>\n",
       "      <th>8</th>\n",
       "      <td>p_50</td>\n",
       "      <td>101.70</td>\n",
       "    </tr>\n",
       "    <tr>\n",
       "      <th>9</th>\n",
       "      <td>p_60</td>\n",
       "      <td>118.50</td>\n",
       "    </tr>\n",
       "    <tr>\n",
       "      <th>10</th>\n",
       "      <td>AVG</td>\n",
       "      <td>127.79</td>\n",
       "    </tr>\n",
       "    <tr>\n",
       "      <th>11</th>\n",
       "      <td>p_67</td>\n",
       "      <td>131.62</td>\n",
       "    </tr>\n",
       "    <tr>\n",
       "      <th>12</th>\n",
       "      <td>p_70</td>\n",
       "      <td>139.12</td>\n",
       "    </tr>\n",
       "    <tr>\n",
       "      <th>13</th>\n",
       "      <td>p_75</td>\n",
       "      <td>152.25</td>\n",
       "    </tr>\n",
       "    <tr>\n",
       "      <th>14</th>\n",
       "      <td>p_80</td>\n",
       "      <td>169.20</td>\n",
       "    </tr>\n",
       "    <tr>\n",
       "      <th>15</th>\n",
       "      <td>p_90</td>\n",
       "      <td>229.12</td>\n",
       "    </tr>\n",
       "    <tr>\n",
       "      <th>16</th>\n",
       "      <td>p_99</td>\n",
       "      <td>493.65</td>\n",
       "    </tr>\n",
       "    <tr>\n",
       "      <th>17</th>\n",
       "      <td>p_100</td>\n",
       "      <td>4472.25</td>\n",
       "    </tr>\n",
       "  </tbody>\n",
       "</table>\n",
       "</div>"
      ],
      "text/plain": [
       "   Percentile  total_fare\n",
       "0        p_00        0.00\n",
       "1        p_01       32.25\n",
       "2        p_10       54.75\n",
       "3        p_20       66.00\n",
       "4        p_25       70.20\n",
       "5        p_30       77.25\n",
       "6        p_33       79.20\n",
       "7        p_40       88.20\n",
       "8        p_50      101.70\n",
       "9        p_60      118.50\n",
       "10        AVG      127.79\n",
       "11       p_67      131.62\n",
       "12       p_70      139.12\n",
       "13       p_75      152.25\n",
       "14       p_80      169.20\n",
       "15       p_90      229.12\n",
       "16       p_99      493.65\n",
       "17      p_100     4472.25"
      ]
     },
     "execution_count": 10,
     "metadata": {},
     "output_type": "execute_result"
    },
    {
     "data": {
      "image/png": "[encoded data removed]",
      "text/plain": [
       "<Figure size 2000x800 with 1 Axes>"
      ]
     },
     "metadata": {},
     "output_type": "display_data"
    }
   ],
   "source": [
    "show_distribution(train_df,'total_fare')"
   ]
  },
  {
   "cell_type": "code",
   "execution_count": 11,
   "id": "1a923984",
   "metadata": {
    "execution": {
     "iopub.execute_input": "2023-12-28T04:45:33.548259Z",
     "iopub.status.busy": "2023-12-28T04:45:33.547929Z",
     "iopub.status.idle": "2023-12-28T04:45:33.567108Z",
     "shell.execute_reply": "2023-12-28T04:45:33.566383Z"
    },
    "papermill": {
     "duration": 0.037251,
     "end_time": "2023-12-28T04:45:33.569189",
     "exception": false,
     "start_time": "2023-12-28T04:45:33.531938",
     "status": "completed"
    },
    "tags": []
   },
   "outputs": [],
   "source": [
    "#Since the distribution of the target-variable is right-skewed, we will use values between p01 and p99\n",
    "train_df = train_df[(train_df['total_fare'] < train_df['total_fare'].quantile(.99))&(train_df['total_fare'] > train_df['total_fare'].quantile(.01))]"
   ]
  },
  {
   "cell_type": "code",
   "execution_count": 12,
   "id": "ef251c2d",
   "metadata": {
    "execution": {
     "iopub.execute_input": "2023-12-28T04:45:33.599391Z",
     "iopub.status.busy": "2023-12-28T04:45:33.599121Z",
     "iopub.status.idle": "2023-12-28T04:45:34.884951Z",
     "shell.execute_reply": "2023-12-28T04:45:34.884021Z"
    },
    "papermill": {
     "duration": 1.303157,
     "end_time": "2023-12-28T04:45:34.887179",
     "exception": false,
     "start_time": "2023-12-28T04:45:33.584022",
     "status": "completed"
    },
    "tags": []
   },
   "outputs": [
    {
     "name": "stderr",
     "output_type": "stream",
     "text": [
      "/opt/conda/lib/python3.10/site-packages/seaborn/_oldcore.py:1119: FutureWarning: use_inf_as_na option is deprecated and will be removed in a future version. Convert inf values to NaN before operating instead.\n",
      "  with pd.option_context('mode.use_inf_as_na', True):\n"
     ]
    },
    {
     "data": {
      "text/html": [
       "<div>\n",
       "<style scoped>\n",
       "    .dataframe tbody tr th:only-of-type {\n",
       "        vertical-align: middle;\n",
       "    }\n",
       "\n",
       "    .dataframe tbody tr th {\n",
       "        vertical-align: top;\n",
       "    }\n",
       "\n",
       "    .dataframe thead th {\n",
       "        text-align: right;\n",
       "    }\n",
       "</style>\n",
       "<table border=\"1\" class=\"dataframe\">\n",
       "  <thead>\n",
       "    <tr style=\"text-align: right;\">\n",
       "      <th></th>\n",
       "      <th>Percentile</th>\n",
       "      <th>total_fare</th>\n",
       "    </tr>\n",
       "  </thead>\n",
       "  <tbody>\n",
       "    <tr>\n",
       "      <th>0</th>\n",
       "      <td>p_00</td>\n",
       "      <td>32.62</td>\n",
       "    </tr>\n",
       "    <tr>\n",
       "      <th>1</th>\n",
       "      <td>p_01</td>\n",
       "      <td>39.75</td>\n",
       "    </tr>\n",
       "    <tr>\n",
       "      <th>2</th>\n",
       "      <td>p_10</td>\n",
       "      <td>54.75</td>\n",
       "    </tr>\n",
       "    <tr>\n",
       "      <th>3</th>\n",
       "      <td>p_20</td>\n",
       "      <td>66.00</td>\n",
       "    </tr>\n",
       "    <tr>\n",
       "      <th>4</th>\n",
       "      <td>p_25</td>\n",
       "      <td>71.18</td>\n",
       "    </tr>\n",
       "    <tr>\n",
       "      <th>5</th>\n",
       "      <td>p_30</td>\n",
       "      <td>77.25</td>\n",
       "    </tr>\n",
       "    <tr>\n",
       "      <th>6</th>\n",
       "      <td>p_33</td>\n",
       "      <td>80.85</td>\n",
       "    </tr>\n",
       "    <tr>\n",
       "      <th>7</th>\n",
       "      <td>p_40</td>\n",
       "      <td>88.50</td>\n",
       "    </tr>\n",
       "    <tr>\n",
       "      <th>8</th>\n",
       "      <td>p_50</td>\n",
       "      <td>101.70</td>\n",
       "    </tr>\n",
       "    <tr>\n",
       "      <th>9</th>\n",
       "      <td>p_60</td>\n",
       "      <td>117.68</td>\n",
       "    </tr>\n",
       "    <tr>\n",
       "      <th>10</th>\n",
       "      <td>AVG</td>\n",
       "      <td>123.26</td>\n",
       "    </tr>\n",
       "    <tr>\n",
       "      <th>11</th>\n",
       "      <td>p_67</td>\n",
       "      <td>130.95</td>\n",
       "    </tr>\n",
       "    <tr>\n",
       "      <th>12</th>\n",
       "      <td>p_70</td>\n",
       "      <td>137.70</td>\n",
       "    </tr>\n",
       "    <tr>\n",
       "      <th>13</th>\n",
       "      <td>p_75</td>\n",
       "      <td>151.20</td>\n",
       "    </tr>\n",
       "    <tr>\n",
       "      <th>14</th>\n",
       "      <td>p_80</td>\n",
       "      <td>167.25</td>\n",
       "    </tr>\n",
       "    <tr>\n",
       "      <th>15</th>\n",
       "      <td>p_90</td>\n",
       "      <td>223.20</td>\n",
       "    </tr>\n",
       "    <tr>\n",
       "      <th>16</th>\n",
       "      <td>p_99</td>\n",
       "      <td>396.00</td>\n",
       "    </tr>\n",
       "    <tr>\n",
       "      <th>17</th>\n",
       "      <td>p_100</td>\n",
       "      <td>493.50</td>\n",
       "    </tr>\n",
       "  </tbody>\n",
       "</table>\n",
       "</div>"
      ],
      "text/plain": [
       "   Percentile  total_fare\n",
       "0        p_00       32.62\n",
       "1        p_01       39.75\n",
       "2        p_10       54.75\n",
       "3        p_20       66.00\n",
       "4        p_25       71.18\n",
       "5        p_30       77.25\n",
       "6        p_33       80.85\n",
       "7        p_40       88.50\n",
       "8        p_50      101.70\n",
       "9        p_60      117.68\n",
       "10        AVG      123.26\n",
       "11       p_67      130.95\n",
       "12       p_70      137.70\n",
       "13       p_75      151.20\n",
       "14       p_80      167.25\n",
       "15       p_90      223.20\n",
       "16       p_99      396.00\n",
       "17      p_100      493.50"
      ]
     },
     "execution_count": 12,
     "metadata": {},
     "output_type": "execute_result"
    },
    {
     "data": {
      "image/png": "[encoded data removed]",
      "text/plain": [
       "<Figure size 2000x800 with 1 Axes>"
      ]
     },
     "metadata": {},
     "output_type": "display_data"
    }
   ],
   "source": [
    "show_distribution(train_df,'total_fare')"
   ]
  },
  {
   "cell_type": "markdown",
   "id": "0bc5f256",
   "metadata": {
    "papermill": {
     "duration": 0.01525,
     "end_time": "2023-12-28T04:45:34.918119",
     "exception": false,
     "start_time": "2023-12-28T04:45:34.902869",
     "status": "completed"
    },
    "tags": []
   },
   "source": [
    "# Model Build"
   ]
  },
  {
   "cell_type": "code",
   "execution_count": 13,
   "id": "151f73aa",
   "metadata": {
    "execution": {
     "iopub.execute_input": "2023-12-28T04:45:34.949879Z",
     "iopub.status.busy": "2023-12-28T04:45:34.949570Z",
     "iopub.status.idle": "2023-12-28T04:45:36.113319Z",
     "shell.execute_reply": "2023-12-28T04:45:36.112506Z"
    },
    "papermill": {
     "duration": 1.18224,
     "end_time": "2023-12-28T04:45:36.115646",
     "exception": false,
     "start_time": "2023-12-28T04:45:34.933406",
     "status": "completed"
    },
    "tags": []
   },
   "outputs": [],
   "source": [
    "#XGBoost Model\n",
    "import xgboost as xgb\n",
    "from xgboost import XGBRegressor\n",
    "from sklearn.model_selection import train_test_split\n",
    "from sklearn.metrics import mean_squared_error as MSE, r2_score, mean_absolute_error, make_scorer\n",
    "from sklearn.preprocessing import StandardScaler, OneHotEncoder\n",
    "from sklearn.model_selection import cross_validate\n",
    "import joblib\n",
    "from sklearn.inspection import permutation_importance\n",
    "\n",
    "from bayes_opt import BayesianOptimization\n",
    "\n",
    "from time import time as ct"
   ]
  },
  {
   "cell_type": "code",
   "execution_count": 14,
   "id": "84a040eb",
   "metadata": {
    "execution": {
     "iopub.execute_input": "2023-12-28T04:45:36.149444Z",
     "iopub.status.busy": "2023-12-28T04:45:36.148565Z",
     "iopub.status.idle": "2023-12-28T04:45:36.166382Z",
     "shell.execute_reply": "2023-12-28T04:45:36.165374Z"
    },
    "papermill": {
     "duration": 0.036532,
     "end_time": "2023-12-28T04:45:36.168366",
     "exception": false,
     "start_time": "2023-12-28T04:45:36.131834",
     "status": "completed"
    },
    "tags": []
   },
   "outputs": [],
   "source": [
    "#Function to evaluate the regression model\n",
    "from sklearn.metrics import mean_squared_error,mean_squared_log_error, mean_absolute_percentage_error, r2_score\n",
    "def regression_eval(y_true,y_pred,thrs=0,predictors=0):\n",
    "    '''\n",
    "    This function evaluates the performance of a regression model and returns evaluation metrics\n",
    "    \n",
    "    Parameters:\n",
    "        y_true (Numpy array) : The ground truth labels given in the dataset\n",
    "        y_pred (Numpy array) : Our predictions\n",
    "        thrs (numeric) : Threshold value for classifying as over-prediction/under-prediction\n",
    "        predictors (int) : Number of predictors in our regression model\n",
    "    \n",
    "    Returns: Dataframe with below metrics to evaluate performance of the regression model\n",
    "    \t1. Number of Observations : Rows on which the model is being evaluated, length of the y_pred/y_true series\n",
    "    \t2. MAE : Mean Absolute Error\n",
    "    \t3. MAPE : Mean Absolute Percentage Error\n",
    "    \t4. RMSE : Root Mean Square Error\n",
    "    \t5. RMSLE : Root Mean Square Log Error\n",
    "    \t5. Coefficient of Determination - R2 : R Squared Value (Goodness of fit)\n",
    "    \t6. Adj. R2 : Adjusted R Squared Value (Takes into account number of predictors, observations, etc.)\n",
    "    \t7. Over-prediction Magnitude : Avg. Magnitude of over-prediction above a specified threshold\n",
    "\t\t8. Percentage of Over-prediction : %age Records where model over-predicts above a specified threshold compared to y_true\n",
    "\t\t9. Under-prediction Magnitude : Avg. Magnitude of under-prediction above a specified threshold\n",
    "\t\t10.Percentage of Under-prediction : %age Records where model under-predicts above a specified threshold compared to y_true\n",
    "    \n",
    "    '''\n",
    "    if len(y_true) != len(y_pred):\n",
    "        print('Length of Actual and Predicted lists is unequal. Please check and correct the same!')\n",
    "        return\n",
    "    \n",
    "    eval_metrics = dict()\n",
    "    n = len(y_true)\n",
    "    k=predictors\n",
    "    \n",
    "    #Absolute magnitude of error: \n",
    "    all_err=np.abs(y_pred-y_true)\n",
    "    mae=all_err.mean()\n",
    "    overpred_magnitude=(all_err[y_pred-y_true>thrs]).mean()\n",
    "    underpred_magnitude=(all_err[y_true-y_pred>thrs]).mean()\n",
    "    \n",
    "    max_overpred=(all_err[y_pred-y_true>thrs]).max()\n",
    "    max_underpred=(all_err[y_true-y_pred>thrs]).max()\n",
    "    \n",
    "    #Percentage Error\n",
    "    mape=np.mean(np.abs((y_true - y_pred) / y_true)) * 100\n",
    "    # mape = mean_absolute_percentage_error(y_true,y_pred) *100\n",
    "    overpred_pct=(y_pred-y_true>thrs).mean() * 100\n",
    "    underpred_pct=(y_true-y_pred>thrs).mean() * 100\n",
    "    \n",
    "    #RMSE & RMSLE\n",
    "    rmse = np.sqrt(mean_squared_error(y_true,y_pred))\n",
    "    #combinig the 2 series to find min and max to then calculate the RMSLE\n",
    "    Y = pd.concat({\"y_true\": y_true,\"y_pred\": y_pred},axis=1)\n",
    "    Y_min = Y.min().min()\n",
    "    Y_max = Y.max().max()\n",
    "    normalized_y_true = (y_true - Y_min) / (Y_max - Y_min)\n",
    "    normalized_y_pred = (y_pred - Y_min) / (Y_max - Y_min)\n",
    "    try:\n",
    "        # rmsle = np.sqrt(mean_squared_log_error(normalized_y_true,normalized_y_pred))\n",
    "        rmsle = np.sqrt(mean_squared_log_error(y_true,y_pred))\n",
    "    except:\n",
    "        print(\"An exception occurred while calculating rmsle.\")\n",
    "        rmsle = np.NaN\n",
    "    \n",
    "    #R2 and Adj. R2\n",
    "    R2 = r2_score(y_true, y_pred)\n",
    "    if k==0:\n",
    "        print('Number of predictors has not been specified, hence Adjusted R2 will not be calculated')\n",
    "        adj_R2 = np.NaN\n",
    "    else: \n",
    "        adj_R2 = 1-((1-R2)*(n-1)/(n-k-1))\n",
    "    \n",
    "    #Combinig all metrics in dictionary and then to Dataframe\n",
    "    eval_metrics['Length of Data'] = len(y_true)\n",
    "    eval_metrics['MAE'] = mae\n",
    "    eval_metrics['MAPE'] = mape\n",
    "    eval_metrics['RMSE'] = rmse\n",
    "    eval_metrics['RMSLE'] = rmsle\n",
    "    eval_metrics['Coefficient of Determination - R2'] = R2\n",
    "    eval_metrics['Adj. R2'] = adj_R2\n",
    "    \n",
    "    eval_metrics['Over-prediction Magnitude'] = overpred_magnitude\n",
    "    eval_metrics['Percentage of Over-prediction'] = overpred_pct\n",
    "    eval_metrics['Under-prediction Magnitude'] = underpred_magnitude\n",
    "    eval_metrics['Percentage of Under-prediction'] = underpred_pct\n",
    "    \n",
    "    #Converting to Dataframe\n",
    "    eval_metrics = pd.DataFrame([eval_metrics],columns=eval_metrics.keys()).T\n",
    "    eval_metrics.columns = ['Value']\n",
    "    eval_metrics.index.set_names('Evaluation Metric',inplace=True)\n",
    "    eval_metrics['Value'] = eval_metrics['Value'].apply(lambda x: '%.2f' % x)\n",
    "    \n",
    "    #plotting the kde for actual and predicted values\n",
    "    sns.kdeplot(y_true, label='Actual',  alpha=.75, fill = True)\n",
    "    sns.kdeplot(y_pred, label='Predicted', alpha=.5, fill = True)\n",
    "    # Plot formatting\n",
    "    plt.legend(prop={'size': 10})\n",
    "    plt.title('Regression Model Performance')\n",
    "    plt.xlabel('Target Variable')\n",
    "    plt.ylabel('Density')\n",
    "    plt.figure(figsize = (20,8))\n",
    "    \n",
    "    return eval_metrics\n",
    "\n",
    "#regression_eval(y_true,y_pred,thrs = 1, predictors=X.shape[1])"
   ]
  },
  {
   "cell_type": "code",
   "execution_count": 15,
   "id": "d4b11991",
   "metadata": {
    "execution": {
     "iopub.execute_input": "2023-12-28T04:45:36.200602Z",
     "iopub.status.busy": "2023-12-28T04:45:36.200051Z",
     "iopub.status.idle": "2023-12-28T04:45:36.209904Z",
     "shell.execute_reply": "2023-12-28T04:45:36.209004Z"
    },
    "papermill": {
     "duration": 0.028136,
     "end_time": "2023-12-28T04:45:36.211947",
     "exception": false,
     "start_time": "2023-12-28T04:45:36.183811",
     "status": "completed"
    },
    "tags": []
   },
   "outputs": [],
   "source": [
    "train_df.drop(['fare','surge_applied'],axis=1,inplace=True)\n",
    "test_df.drop(['fare','surge_applied'],axis=1,inplace=True)"
   ]
  },
  {
   "cell_type": "code",
   "execution_count": 16,
   "id": "a99935d2",
   "metadata": {
    "execution": {
     "iopub.execute_input": "2023-12-28T04:45:36.244540Z",
     "iopub.status.busy": "2023-12-28T04:45:36.244242Z",
     "iopub.status.idle": "2023-12-28T04:45:36.276739Z",
     "shell.execute_reply": "2023-12-28T04:45:36.275727Z"
    },
    "papermill": {
     "duration": 0.051065,
     "end_time": "2023-12-28T04:45:36.278867",
     "exception": false,
     "start_time": "2023-12-28T04:45:36.227802",
     "status": "completed"
    },
    "tags": []
   },
   "outputs": [],
   "source": [
    "# X_train = train_df.drop('total_fare',axis=1)\n",
    "# X_test = test_df.drop('total_fare',axis=1)\n",
    "# y_train = train_df['total_fare']\n",
    "# y_test = test_df['total_fare']\n",
    "\n",
    "X = train_df.drop('total_fare',axis=1)\n",
    "y= train_df['total_fare']\n",
    "\n",
    "X_train, X_test, y_train, y_test = train_test_split(X, y, test_size=0.2, random_state=123)"
   ]
  },
  {
   "cell_type": "code",
   "execution_count": 17,
   "id": "26b446bb",
   "metadata": {
    "execution": {
     "iopub.execute_input": "2023-12-28T04:45:36.314376Z",
     "iopub.status.busy": "2023-12-28T04:45:36.313832Z",
     "iopub.status.idle": "2023-12-28T04:45:36.333373Z",
     "shell.execute_reply": "2023-12-28T04:45:36.332533Z"
    },
    "papermill": {
     "duration": 0.039373,
     "end_time": "2023-12-28T04:45:36.335433",
     "exception": false,
     "start_time": "2023-12-28T04:45:36.296060",
     "status": "completed"
    },
    "tags": []
   },
   "outputs": [],
   "source": [
    "#Standard Scaler Function [(x-mu)/sigma] - on Training Set\n",
    "ss = StandardScaler()\n",
    "ss.fit(X_train)\n",
    "\n",
    "X_tr2=pd.DataFrame(ss.transform(X_train),columns=X_train.columns)"
   ]
  },
  {
   "cell_type": "code",
   "execution_count": 18,
   "id": "3e56cf95",
   "metadata": {
    "execution": {
     "iopub.execute_input": "2023-12-28T04:45:36.370839Z",
     "iopub.status.busy": "2023-12-28T04:45:36.370553Z",
     "iopub.status.idle": "2023-12-28T04:45:36.375816Z",
     "shell.execute_reply": "2023-12-28T04:45:36.374785Z"
    },
    "papermill": {
     "duration": 0.025359,
     "end_time": "2023-12-28T04:45:36.377933",
     "exception": false,
     "start_time": "2023-12-28T04:45:36.352574",
     "status": "completed"
    },
    "tags": []
   },
   "outputs": [
    {
     "name": "stdout",
     "output_type": "stream",
     "text": [
      "(164112, 5) (164112,)\n"
     ]
    }
   ],
   "source": [
    "print(X_tr2.shape,y_train.shape)"
   ]
  },
  {
   "cell_type": "code",
   "execution_count": 19,
   "id": "2ce280cd",
   "metadata": {
    "execution": {
     "iopub.execute_input": "2023-12-28T04:45:36.413705Z",
     "iopub.status.busy": "2023-12-28T04:45:36.413407Z",
     "iopub.status.idle": "2023-12-28T04:45:36.426874Z",
     "shell.execute_reply": "2023-12-28T04:45:36.426039Z"
    },
    "papermill": {
     "duration": 0.033458,
     "end_time": "2023-12-28T04:45:36.428820",
     "exception": false,
     "start_time": "2023-12-28T04:45:36.395362",
     "status": "completed"
    },
    "tags": []
   },
   "outputs": [
    {
     "data": {
      "text/html": [
       "<style>#sk-container-id-1 {color: black;background-color: white;}#sk-container-id-1 pre{padding: 0;}#sk-container-id-1 div.sk-toggleable {background-color: white;}#sk-container-id-1 label.sk-toggleable__label {cursor: pointer;display: block;width: 100%;margin-bottom: 0;padding: 0.3em;box-sizing: border-box;text-align: center;}#sk-container-id-1 label.sk-toggleable__label-arrow:before {content: \"▸\";float: left;margin-right: 0.25em;color: #696969;}#sk-container-id-1 label.sk-toggleable__label-arrow:hover:before {color: black;}#sk-container-id-1 div.sk-estimator:hover label.sk-toggleable__label-arrow:before {color: black;}#sk-container-id-1 div.sk-toggleable__content {max-height: 0;max-width: 0;overflow: hidden;text-align: left;background-color: #f0f8ff;}#sk-container-id-1 div.sk-toggleable__content pre {margin: 0.2em;color: black;border-radius: 0.25em;background-color: #f0f8ff;}#sk-container-id-1 input.sk-toggleable__control:checked~div.sk-toggleable__content {max-height: 200px;max-width: 100%;overflow: auto;}#sk-container-id-1 input.sk-toggleable__control:checked~label.sk-toggleable__label-arrow:before {content: \"▾\";}#sk-container-id-1 div.sk-estimator input.sk-toggleable__control:checked~label.sk-toggleable__label {background-color: #d4ebff;}#sk-container-id-1 div.sk-label input.sk-toggleable__control:checked~label.sk-toggleable__label {background-color: #d4ebff;}#sk-container-id-1 input.sk-hidden--visually {border: 0;clip: rect(1px 1px 1px 1px);clip: rect(1px, 1px, 1px, 1px);height: 1px;margin: -1px;overflow: hidden;padding: 0;position: absolute;width: 1px;}#sk-container-id-1 div.sk-estimator {font-family: monospace;background-color: #f0f8ff;border: 1px dotted black;border-radius: 0.25em;box-sizing: border-box;margin-bottom: 0.5em;}#sk-container-id-1 div.sk-estimator:hover {background-color: #d4ebff;}#sk-container-id-1 div.sk-parallel-item::after {content: \"\";width: 100%;border-bottom: 1px solid gray;flex-grow: 1;}#sk-container-id-1 div.sk-label:hover label.sk-toggleable__label {background-color: #d4ebff;}#sk-container-id-1 div.sk-serial::before {content: \"\";position: absolute;border-left: 1px solid gray;box-sizing: border-box;top: 0;bottom: 0;left: 50%;z-index: 0;}#sk-container-id-1 div.sk-serial {display: flex;flex-direction: column;align-items: center;background-color: white;padding-right: 0.2em;padding-left: 0.2em;position: relative;}#sk-container-id-1 div.sk-item {position: relative;z-index: 1;}#sk-container-id-1 div.sk-parallel {display: flex;align-items: stretch;justify-content: center;background-color: white;position: relative;}#sk-container-id-1 div.sk-item::before, #sk-container-id-1 div.sk-parallel-item::before {content: \"\";position: absolute;border-left: 1px solid gray;box-sizing: border-box;top: 0;bottom: 0;left: 50%;z-index: -1;}#sk-container-id-1 div.sk-parallel-item {display: flex;flex-direction: column;z-index: 1;position: relative;background-color: white;}#sk-container-id-1 div.sk-parallel-item:first-child::after {align-self: flex-end;width: 50%;}#sk-container-id-1 div.sk-parallel-item:last-child::after {align-self: flex-start;width: 50%;}#sk-container-id-1 div.sk-parallel-item:only-child::after {width: 0;}#sk-container-id-1 div.sk-dashed-wrapped {border: 1px dashed gray;margin: 0 0.4em 0.5em 0.4em;box-sizing: border-box;padding-bottom: 0.4em;background-color: white;}#sk-container-id-1 div.sk-label label {font-family: monospace;font-weight: bold;display: inline-block;line-height: 1.2em;}#sk-container-id-1 div.sk-label-container {text-align: center;}#sk-container-id-1 div.sk-container {/* jupyter's `normalize.less` sets `[hidden] { display: none; }` but bootstrap.min.css set `[hidden] { display: none !important; }` so we also need the `!important` here to be able to override the default hidden behavior on the sphinx rendered scikit-learn.org. See: https://github.com/scikit-learn/scikit-learn/issues/21755 */display: inline-block !important;position: relative;}#sk-container-id-1 div.sk-text-repr-fallback {display: none;}</style><div id=\"sk-container-id-1\" class=\"sk-top-container\"><div class=\"sk-text-repr-fallback\"><pre>XGBRegressor(alpha=10, base_score=0.5, booster=&#x27;gbtree&#x27;, callbacks=None,\n",
       "             colsample_bylevel=1, colsample_bynode=1, colsample_bytree=0.3,\n",
       "             device=None, early_stopping_rounds=None, enable_categorical=False,\n",
       "             eval_metric=None, feature_types=None, gamma=0, grow_policy=None,\n",
       "             importance_type=&#x27;gain&#x27;, interaction_constraints=None,\n",
       "             learning_rate=0.1, max_bin=None, max_cat_threshold=None,\n",
       "             max_cat_to_onehot=None, max_delta_step=0, max_depth=5,\n",
       "             max_leaves=None, min_child_weight=1, missing=nan,\n",
       "             monotone_constraints=None, multi_strategy=None, n_estimators=10,\n",
       "             n_jobs=1, nthread=None, ...)</pre><b>In a Jupyter environment, please rerun this cell to show the HTML representation or trust the notebook. <br />On GitHub, the HTML representation is unable to render, please try loading this page with nbviewer.org.</b></div><div class=\"sk-container\" hidden><div class=\"sk-item\"><div class=\"sk-estimator sk-toggleable\"><input class=\"sk-toggleable__control sk-hidden--visually\" id=\"sk-estimator-id-1\" type=\"checkbox\" checked><label for=\"sk-estimator-id-1\" class=\"sk-toggleable__label sk-toggleable__label-arrow\">XGBRegressor</label><div class=\"sk-toggleable__content\"><pre>XGBRegressor(alpha=10, base_score=0.5, booster=&#x27;gbtree&#x27;, callbacks=None,\n",
       "             colsample_bylevel=1, colsample_bynode=1, colsample_bytree=0.3,\n",
       "             device=None, early_stopping_rounds=None, enable_categorical=False,\n",
       "             eval_metric=None, feature_types=None, gamma=0, grow_policy=None,\n",
       "             importance_type=&#x27;gain&#x27;, interaction_constraints=None,\n",
       "             learning_rate=0.1, max_bin=None, max_cat_threshold=None,\n",
       "             max_cat_to_onehot=None, max_delta_step=0, max_depth=5,\n",
       "             max_leaves=None, min_child_weight=1, missing=nan,\n",
       "             monotone_constraints=None, multi_strategy=None, n_estimators=10,\n",
       "             n_jobs=1, nthread=None, ...)</pre></div></div></div></div></div>"
      ],
      "text/plain": [
       "XGBRegressor(alpha=10, base_score=0.5, booster='gbtree', callbacks=None,\n",
       "             colsample_bylevel=1, colsample_bynode=1, colsample_bytree=0.3,\n",
       "             device=None, early_stopping_rounds=None, enable_categorical=False,\n",
       "             eval_metric=None, feature_types=None, gamma=0, grow_policy=None,\n",
       "             importance_type='gain', interaction_constraints=None,\n",
       "             learning_rate=0.1, max_bin=None, max_cat_threshold=None,\n",
       "             max_cat_to_onehot=None, max_delta_step=0, max_depth=5,\n",
       "             max_leaves=None, min_child_weight=1, missing=nan,\n",
       "             monotone_constraints=None, multi_strategy=None, n_estimators=10,\n",
       "             n_jobs=1, nthread=None, ...)"
      ]
     },
     "execution_count": 19,
     "metadata": {},
     "output_type": "execute_result"
    }
   ],
   "source": [
    "# Base Model\n",
    "xgB=XGBRegressor(alpha=10, base_score=0.5, booster='gbtree', colsample_bylevel=1,\n",
    "             colsample_bynode=1, colsample_bytree=0.3, gamma=0,\n",
    "             importance_type='gain', learning_rate=0.1, max_delta_step=0,\n",
    "             max_depth=5, min_child_weight=1, missing=np.NaN, n_estimators=10,\n",
    "             n_jobs=1, nthread=None, objective='reg:squarederror', random_state=7272,\n",
    "             reg_alpha=0, reg_lambda=1, scale_pos_weight=1, seed=7272,\n",
    "             silent=None, subsample=1, verbosity=1)\n",
    "\n",
    "xgB"
   ]
  },
  {
   "cell_type": "code",
   "execution_count": 20,
   "id": "2a43e9f9",
   "metadata": {
    "execution": {
     "iopub.execute_input": "2023-12-28T04:45:36.463636Z",
     "iopub.status.busy": "2023-12-28T04:45:36.463362Z",
     "iopub.status.idle": "2023-12-28T04:45:36.859549Z",
     "shell.execute_reply": "2023-12-28T04:45:36.858725Z"
    },
    "papermill": {
     "duration": 0.416187,
     "end_time": "2023-12-28T04:45:36.861858",
     "exception": false,
     "start_time": "2023-12-28T04:45:36.445671",
     "status": "completed"
    },
    "tags": []
   },
   "outputs": [
    {
     "data": {
      "text/html": [
       "<style>#sk-container-id-2 {color: black;background-color: white;}#sk-container-id-2 pre{padding: 0;}#sk-container-id-2 div.sk-toggleable {background-color: white;}#sk-container-id-2 label.sk-toggleable__label {cursor: pointer;display: block;width: 100%;margin-bottom: 0;padding: 0.3em;box-sizing: border-box;text-align: center;}#sk-container-id-2 label.sk-toggleable__label-arrow:before {content: \"▸\";float: left;margin-right: 0.25em;color: #696969;}#sk-container-id-2 label.sk-toggleable__label-arrow:hover:before {color: black;}#sk-container-id-2 div.sk-estimator:hover label.sk-toggleable__label-arrow:before {color: black;}#sk-container-id-2 div.sk-toggleable__content {max-height: 0;max-width: 0;overflow: hidden;text-align: left;background-color: #f0f8ff;}#sk-container-id-2 div.sk-toggleable__content pre {margin: 0.2em;color: black;border-radius: 0.25em;background-color: #f0f8ff;}#sk-container-id-2 input.sk-toggleable__control:checked~div.sk-toggleable__content {max-height: 200px;max-width: 100%;overflow: auto;}#sk-container-id-2 input.sk-toggleable__control:checked~label.sk-toggleable__label-arrow:before {content: \"▾\";}#sk-container-id-2 div.sk-estimator input.sk-toggleable__control:checked~label.sk-toggleable__label {background-color: #d4ebff;}#sk-container-id-2 div.sk-label input.sk-toggleable__control:checked~label.sk-toggleable__label {background-color: #d4ebff;}#sk-container-id-2 input.sk-hidden--visually {border: 0;clip: rect(1px 1px 1px 1px);clip: rect(1px, 1px, 1px, 1px);height: 1px;margin: -1px;overflow: hidden;padding: 0;position: absolute;width: 1px;}#sk-container-id-2 div.sk-estimator {font-family: monospace;background-color: #f0f8ff;border: 1px dotted black;border-radius: 0.25em;box-sizing: border-box;margin-bottom: 0.5em;}#sk-container-id-2 div.sk-estimator:hover {background-color: #d4ebff;}#sk-container-id-2 div.sk-parallel-item::after {content: \"\";width: 100%;border-bottom: 1px solid gray;flex-grow: 1;}#sk-container-id-2 div.sk-label:hover label.sk-toggleable__label {background-color: #d4ebff;}#sk-container-id-2 div.sk-serial::before {content: \"\";position: absolute;border-left: 1px solid gray;box-sizing: border-box;top: 0;bottom: 0;left: 50%;z-index: 0;}#sk-container-id-2 div.sk-serial {display: flex;flex-direction: column;align-items: center;background-color: white;padding-right: 0.2em;padding-left: 0.2em;position: relative;}#sk-container-id-2 div.sk-item {position: relative;z-index: 1;}#sk-container-id-2 div.sk-parallel {display: flex;align-items: stretch;justify-content: center;background-color: white;position: relative;}#sk-container-id-2 div.sk-item::before, #sk-container-id-2 div.sk-parallel-item::before {content: \"\";position: absolute;border-left: 1px solid gray;box-sizing: border-box;top: 0;bottom: 0;left: 50%;z-index: -1;}#sk-container-id-2 div.sk-parallel-item {display: flex;flex-direction: column;z-index: 1;position: relative;background-color: white;}#sk-container-id-2 div.sk-parallel-item:first-child::after {align-self: flex-end;width: 50%;}#sk-container-id-2 div.sk-parallel-item:last-child::after {align-self: flex-start;width: 50%;}#sk-container-id-2 div.sk-parallel-item:only-child::after {width: 0;}#sk-container-id-2 div.sk-dashed-wrapped {border: 1px dashed gray;margin: 0 0.4em 0.5em 0.4em;box-sizing: border-box;padding-bottom: 0.4em;background-color: white;}#sk-container-id-2 div.sk-label label {font-family: monospace;font-weight: bold;display: inline-block;line-height: 1.2em;}#sk-container-id-2 div.sk-label-container {text-align: center;}#sk-container-id-2 div.sk-container {/* jupyter's `normalize.less` sets `[hidden] { display: none; }` but bootstrap.min.css set `[hidden] { display: none !important; }` so we also need the `!important` here to be able to override the default hidden behavior on the sphinx rendered scikit-learn.org. See: https://github.com/scikit-learn/scikit-learn/issues/21755 */display: inline-block !important;position: relative;}#sk-container-id-2 div.sk-text-repr-fallback {display: none;}</style><div id=\"sk-container-id-2\" class=\"sk-top-container\"><div class=\"sk-text-repr-fallback\"><pre>XGBRegressor(alpha=10, base_score=0.5, booster=&#x27;gbtree&#x27;, callbacks=None,\n",
       "             colsample_bylevel=1, colsample_bynode=1, colsample_bytree=0.3,\n",
       "             device=None, early_stopping_rounds=None, enable_categorical=False,\n",
       "             eval_metric=None, feature_types=None, gamma=0, grow_policy=None,\n",
       "             importance_type=&#x27;gain&#x27;, interaction_constraints=None,\n",
       "             learning_rate=0.1, max_bin=None, max_cat_threshold=None,\n",
       "             max_cat_to_onehot=None, max_delta_step=0, max_depth=5,\n",
       "             max_leaves=None, min_child_weight=1, missing=nan,\n",
       "             monotone_constraints=None, multi_strategy=None, n_estimators=10,\n",
       "             n_jobs=1, nthread=None, ...)</pre><b>In a Jupyter environment, please rerun this cell to show the HTML representation or trust the notebook. <br />On GitHub, the HTML representation is unable to render, please try loading this page with nbviewer.org.</b></div><div class=\"sk-container\" hidden><div class=\"sk-item\"><div class=\"sk-estimator sk-toggleable\"><input class=\"sk-toggleable__control sk-hidden--visually\" id=\"sk-estimator-id-2\" type=\"checkbox\" checked><label for=\"sk-estimator-id-2\" class=\"sk-toggleable__label sk-toggleable__label-arrow\">XGBRegressor</label><div class=\"sk-toggleable__content\"><pre>XGBRegressor(alpha=10, base_score=0.5, booster=&#x27;gbtree&#x27;, callbacks=None,\n",
       "             colsample_bylevel=1, colsample_bynode=1, colsample_bytree=0.3,\n",
       "             device=None, early_stopping_rounds=None, enable_categorical=False,\n",
       "             eval_metric=None, feature_types=None, gamma=0, grow_policy=None,\n",
       "             importance_type=&#x27;gain&#x27;, interaction_constraints=None,\n",
       "             learning_rate=0.1, max_bin=None, max_cat_threshold=None,\n",
       "             max_cat_to_onehot=None, max_delta_step=0, max_depth=5,\n",
       "             max_leaves=None, min_child_weight=1, missing=nan,\n",
       "             monotone_constraints=None, multi_strategy=None, n_estimators=10,\n",
       "             n_jobs=1, nthread=None, ...)</pre></div></div></div></div></div>"
      ],
      "text/plain": [
       "XGBRegressor(alpha=10, base_score=0.5, booster='gbtree', callbacks=None,\n",
       "             colsample_bylevel=1, colsample_bynode=1, colsample_bytree=0.3,\n",
       "             device=None, early_stopping_rounds=None, enable_categorical=False,\n",
       "             eval_metric=None, feature_types=None, gamma=0, grow_policy=None,\n",
       "             importance_type='gain', interaction_constraints=None,\n",
       "             learning_rate=0.1, max_bin=None, max_cat_threshold=None,\n",
       "             max_cat_to_onehot=None, max_delta_step=0, max_depth=5,\n",
       "             max_leaves=None, min_child_weight=1, missing=nan,\n",
       "             monotone_constraints=None, multi_strategy=None, n_estimators=10,\n",
       "             n_jobs=1, nthread=None, ...)"
      ]
     },
     "execution_count": 20,
     "metadata": {},
     "output_type": "execute_result"
    }
   ],
   "source": [
    "xgB.fit(X_tr2,y_train)"
   ]
  },
  {
   "cell_type": "code",
   "execution_count": 21,
   "id": "3c3c7e5a",
   "metadata": {
    "execution": {
     "iopub.execute_input": "2023-12-28T04:45:36.898437Z",
     "iopub.status.busy": "2023-12-28T04:45:36.897654Z",
     "iopub.status.idle": "2023-12-28T04:45:36.906925Z",
     "shell.execute_reply": "2023-12-28T04:45:36.905456Z"
    },
    "papermill": {
     "duration": 0.030521,
     "end_time": "2023-12-28T04:45:36.909835",
     "exception": false,
     "start_time": "2023-12-28T04:45:36.879314",
     "status": "completed"
    },
    "tags": []
   },
   "outputs": [],
   "source": [
    "X_te2=pd.DataFrame(ss.transform(X_test),columns=X_test.columns)"
   ]
  },
  {
   "cell_type": "code",
   "execution_count": 22,
   "id": "da20574e",
   "metadata": {
    "execution": {
     "iopub.execute_input": "2023-12-28T04:45:36.953633Z",
     "iopub.status.busy": "2023-12-28T04:45:36.952846Z",
     "iopub.status.idle": "2023-12-28T04:45:36.975213Z",
     "shell.execute_reply": "2023-12-28T04:45:36.974455Z"
    },
    "papermill": {
     "duration": 0.046563,
     "end_time": "2023-12-28T04:45:36.977423",
     "exception": false,
     "start_time": "2023-12-28T04:45:36.930860",
     "status": "completed"
    },
    "tags": []
   },
   "outputs": [],
   "source": [
    "y_actual = y_test\n",
    "y_pred = pd.Series(xgB.predict(X_te2))"
   ]
  },
  {
   "cell_type": "code",
   "execution_count": 23,
   "id": "fdda1b9b",
   "metadata": {
    "execution": {
     "iopub.execute_input": "2023-12-28T04:45:37.014219Z",
     "iopub.status.busy": "2023-12-28T04:45:37.013905Z",
     "iopub.status.idle": "2023-12-28T04:45:37.020883Z",
     "shell.execute_reply": "2023-12-28T04:45:37.020097Z"
    },
    "papermill": {
     "duration": 0.027463,
     "end_time": "2023-12-28T04:45:37.022728",
     "exception": false,
     "start_time": "2023-12-28T04:45:36.995265",
     "status": "completed"
    },
    "tags": []
   },
   "outputs": [
    {
     "data": {
      "text/plain": [
       "128318     71.175\n",
       "73659     452.475\n",
       "41434     130.950\n",
       "73026     265.950\n",
       "121617    156.525\n",
       "Name: total_fare, dtype: float64"
      ]
     },
     "execution_count": 23,
     "metadata": {},
     "output_type": "execute_result"
    }
   ],
   "source": [
    "y_actual[:5]"
   ]
  },
  {
   "cell_type": "code",
   "execution_count": 24,
   "id": "ca778e0f",
   "metadata": {
    "execution": {
     "iopub.execute_input": "2023-12-28T04:45:37.060514Z",
     "iopub.status.busy": "2023-12-28T04:45:37.060219Z",
     "iopub.status.idle": "2023-12-28T04:45:37.067381Z",
     "shell.execute_reply": "2023-12-28T04:45:37.066388Z"
    },
    "papermill": {
     "duration": 0.029718,
     "end_time": "2023-12-28T04:45:37.069608",
     "exception": false,
     "start_time": "2023-12-28T04:45:37.039890",
     "status": "completed"
    },
    "tags": []
   },
   "outputs": [
    {
     "data": {
      "text/plain": [
       "0     54.032928\n",
       "1    185.845566\n",
       "2     77.209061\n",
       "3    149.510132\n",
       "4     93.628899\n",
       "dtype: float32"
      ]
     },
     "execution_count": 24,
     "metadata": {},
     "output_type": "execute_result"
    }
   ],
   "source": [
    "y_pred[:5]"
   ]
  },
  {
   "cell_type": "code",
   "execution_count": 25,
   "id": "9b177410",
   "metadata": {
    "execution": {
     "iopub.execute_input": "2023-12-28T04:45:37.109717Z",
     "iopub.status.busy": "2023-12-28T04:45:37.109420Z",
     "iopub.status.idle": "2023-12-28T04:45:38.067755Z",
     "shell.execute_reply": "2023-12-28T04:45:38.066849Z"
    },
    "papermill": {
     "duration": 0.980327,
     "end_time": "2023-12-28T04:45:38.069646",
     "exception": false,
     "start_time": "2023-12-28T04:45:37.089319",
     "status": "completed"
    },
    "tags": []
   },
   "outputs": [
    {
     "name": "stderr",
     "output_type": "stream",
     "text": [
      "/opt/conda/lib/python3.10/site-packages/seaborn/_oldcore.py:1119: FutureWarning: use_inf_as_na option is deprecated and will be removed in a future version. Convert inf values to NaN before operating instead.\n",
      "  with pd.option_context('mode.use_inf_as_na', True):\n",
      "/opt/conda/lib/python3.10/site-packages/seaborn/_oldcore.py:1119: FutureWarning: use_inf_as_na option is deprecated and will be removed in a future version. Convert inf values to NaN before operating instead.\n",
      "  with pd.option_context('mode.use_inf_as_na', True):\n"
     ]
    },
    {
     "data": {
      "text/html": [
       "<div>\n",
       "<style scoped>\n",
       "    .dataframe tbody tr th:only-of-type {\n",
       "        vertical-align: middle;\n",
       "    }\n",
       "\n",
       "    .dataframe tbody tr th {\n",
       "        vertical-align: top;\n",
       "    }\n",
       "\n",
       "    .dataframe thead th {\n",
       "        text-align: right;\n",
       "    }\n",
       "</style>\n",
       "<table border=\"1\" class=\"dataframe\">\n",
       "  <thead>\n",
       "    <tr style=\"text-align: right;\">\n",
       "      <th></th>\n",
       "      <th>Value</th>\n",
       "    </tr>\n",
       "    <tr>\n",
       "      <th>Evaluation Metric</th>\n",
       "      <th></th>\n",
       "    </tr>\n",
       "  </thead>\n",
       "  <tbody>\n",
       "    <tr>\n",
       "      <th>Length of Data</th>\n",
       "      <td>41028.00</td>\n",
       "    </tr>\n",
       "    <tr>\n",
       "      <th>MAE</th>\n",
       "      <td>61.97</td>\n",
       "    </tr>\n",
       "    <tr>\n",
       "      <th>MAPE</th>\n",
       "      <td>47.75</td>\n",
       "    </tr>\n",
       "    <tr>\n",
       "      <th>RMSE</th>\n",
       "      <td>60.98</td>\n",
       "    </tr>\n",
       "    <tr>\n",
       "      <th>RMSLE</th>\n",
       "      <td>0.41</td>\n",
       "    </tr>\n",
       "    <tr>\n",
       "      <th>Coefficient of Determination - R2</th>\n",
       "      <td>0.32</td>\n",
       "    </tr>\n",
       "    <tr>\n",
       "      <th>Adj. R2</th>\n",
       "      <td>0.32</td>\n",
       "    </tr>\n",
       "    <tr>\n",
       "      <th>Over-prediction Magnitude</th>\n",
       "      <td>35.09</td>\n",
       "    </tr>\n",
       "    <tr>\n",
       "      <th>Percentage of Over-prediction</th>\n",
       "      <td>3.39</td>\n",
       "    </tr>\n",
       "    <tr>\n",
       "      <th>Under-prediction Magnitude</th>\n",
       "      <td>74.09</td>\n",
       "    </tr>\n",
       "    <tr>\n",
       "      <th>Percentage of Under-prediction</th>\n",
       "      <td>7.53</td>\n",
       "    </tr>\n",
       "  </tbody>\n",
       "</table>\n",
       "</div>"
      ],
      "text/plain": [
       "                                      Value\n",
       "Evaluation Metric                          \n",
       "Length of Data                     41028.00\n",
       "MAE                                   61.97\n",
       "MAPE                                  47.75\n",
       "RMSE                                  60.98\n",
       "RMSLE                                  0.41\n",
       "Coefficient of Determination - R2      0.32\n",
       "Adj. R2                                0.32\n",
       "Over-prediction Magnitude             35.09\n",
       "Percentage of Over-prediction          3.39\n",
       "Under-prediction Magnitude            74.09\n",
       "Percentage of Under-prediction         7.53"
      ]
     },
     "execution_count": 25,
     "metadata": {},
     "output_type": "execute_result"
    },
    {
     "data": {
      "image/png": "[encoded data removed]",
      "text/plain": [
       "<Figure size 640x480 with 1 Axes>"
      ]
     },
     "metadata": {},
     "output_type": "display_data"
    },
    {
     "data": {
      "text/plain": [
       "<Figure size 2000x800 with 0 Axes>"
      ]
     },
     "metadata": {},
     "output_type": "display_data"
    }
   ],
   "source": [
    "regression_eval(y_true=y_actual,y_pred=y_pred,predictors=5)"
   ]
  },
  {
   "cell_type": "markdown",
   "id": "82cd528f",
   "metadata": {
    "papermill": {
     "duration": 0.017237,
     "end_time": "2023-12-28T04:45:38.104881",
     "exception": false,
     "start_time": "2023-12-28T04:45:38.087644",
     "status": "completed"
    },
    "tags": []
   },
   "source": [
    "# # Finding Optimized Hyperparameters\n"
   ]
  },
  {
   "cell_type": "code",
   "execution_count": 26,
   "id": "16130c70",
   "metadata": {
    "execution": {
     "iopub.execute_input": "2023-12-28T04:45:38.141631Z",
     "iopub.status.busy": "2023-12-28T04:45:38.141121Z",
     "iopub.status.idle": "2023-12-28T04:45:38.145629Z",
     "shell.execute_reply": "2023-12-28T04:45:38.144784Z"
    },
    "papermill": {
     "duration": 0.025118,
     "end_time": "2023-12-28T04:45:38.147584",
     "exception": false,
     "start_time": "2023-12-28T04:45:38.122466",
     "status": "completed"
    },
    "tags": []
   },
   "outputs": [],
   "source": [
    "# Target Function for optimizing hyperparams RMSE\n",
    "def targ_func(y_true, y_pred):\n",
    "    diff = np.sqrt(mean_squared_error(y_true,y_pred))\n",
    "    return diff\n",
    "\n",
    "target_fn = make_scorer(targ_func, greater_is_better=False)"
   ]
  },
  {
   "cell_type": "code",
   "execution_count": 27,
   "id": "1324840a",
   "metadata": {
    "execution": {
     "iopub.execute_input": "2023-12-28T04:45:38.183882Z",
     "iopub.status.busy": "2023-12-28T04:45:38.183620Z",
     "iopub.status.idle": "2023-12-28T04:45:38.190033Z",
     "shell.execute_reply": "2023-12-28T04:45:38.189213Z"
    },
    "papermill": {
     "duration": 0.026746,
     "end_time": "2023-12-28T04:45:38.191832",
     "exception": false,
     "start_time": "2023-12-28T04:45:38.165086",
     "status": "completed"
    },
    "tags": []
   },
   "outputs": [],
   "source": [
    "#Evaluating the XGBoost model with different Hyperparams\n",
    "def xgb_evaluate(max_depth,learning_rate,n_estimators,\n",
    "                 gamma,reg_alpha,reg_lambda,X=X_train,y=y_train):\n",
    "    '''\n",
    "    Function that performs CV and we can use the results from the below optimization to decide on the best hyper parameters for the model\n",
    "    '''\n",
    "\n",
    "    md= int(max_depth)\n",
    "    lr= max(learning_rate,0)\n",
    "    ne= int(n_estimators)\n",
    "    gamma= max(gamma, 0) # 0\n",
    "    ra= max(reg_alpha, 0) # 0\n",
    "    rl= max(reg_lambda, 0) # 1\n",
    "    seed= 123\n",
    "\n",
    "    xgb=XGBRegressor(objective='reg:squarederror',max_depth=md,learning_rate=lr,n_estimators=ne,gamma=gamma,reg_alpha=ra,reg_lambda=rl,seed=seed)\n",
    "    cv_results = cross_validate(xgb, X, y, cv=5, scoring=target_fn)\n",
    "    return cv_results['test_score'].mean()"
   ]
  },
  {
   "cell_type": "code",
   "execution_count": 28,
   "id": "b342c5b8",
   "metadata": {
    "execution": {
     "iopub.execute_input": "2023-12-28T04:45:38.228924Z",
     "iopub.status.busy": "2023-12-28T04:45:38.228663Z",
     "iopub.status.idle": "2023-12-28T04:45:38.234600Z",
     "shell.execute_reply": "2023-12-28T04:45:38.233889Z"
    },
    "papermill": {
     "duration": 0.026605,
     "end_time": "2023-12-28T04:45:38.236530",
     "exception": false,
     "start_time": "2023-12-28T04:45:38.209925",
     "status": "completed"
    },
    "tags": []
   },
   "outputs": [],
   "source": [
    "xgb_op = BayesianOptimization(xgb_evaluate, {'max_depth': (6,12),'learning_rate': (0.3, 0.55),\n",
    "                                            'n_estimators': (13,20),'gamma': (0.1, 2.5),'reg_alpha': (0.5, 2.6),\n",
    "                                            'reg_lambda': (0.2, 1.2)})"
   ]
  },
  {
   "cell_type": "code",
   "execution_count": 29,
   "id": "8921012d",
   "metadata": {
    "execution": {
     "iopub.execute_input": "2023-12-28T04:45:38.272757Z",
     "iopub.status.busy": "2023-12-28T04:45:38.272512Z",
     "iopub.status.idle": "2023-12-28T04:46:55.042769Z",
     "shell.execute_reply": "2023-12-28T04:46:55.042027Z"
    },
    "papermill": {
     "duration": 76.791048,
     "end_time": "2023-12-28T04:46:55.045103",
     "exception": false,
     "start_time": "2023-12-28T04:45:38.254055",
     "status": "completed"
    },
    "tags": []
   },
   "outputs": [
    {
     "name": "stdout",
     "output_type": "stream",
     "text": [
      "|   iter    |  target   |   gamma   | learni... | max_depth | n_esti... | reg_alpha | reg_la... |\n",
      "-------------------------------------------------------------------------------------------------\n",
      "| \u001b[0m1        \u001b[0m | \u001b[0m-15.56   \u001b[0m | \u001b[0m1.695    \u001b[0m | \u001b[0m0.479    \u001b[0m | \u001b[0m6.916    \u001b[0m | \u001b[0m17.6     \u001b[0m | \u001b[0m2.356    \u001b[0m | \u001b[0m0.6772   \u001b[0m |\n",
      "| \u001b[0m2        \u001b[0m | \u001b[0m-15.87   \u001b[0m | \u001b[0m1.642    \u001b[0m | \u001b[0m0.5247   \u001b[0m | \u001b[0m10.38    \u001b[0m | \u001b[0m13.93    \u001b[0m | \u001b[0m1.315    \u001b[0m | \u001b[0m0.2708   \u001b[0m |\n",
      "| \u001b[95m3        \u001b[0m | \u001b[95m-15.49   \u001b[0m | \u001b[95m0.5854   \u001b[0m | \u001b[95m0.3788   \u001b[0m | \u001b[95m11.25    \u001b[0m | \u001b[95m14.51    \u001b[0m | \u001b[95m2.146    \u001b[0m | \u001b[95m0.9906   \u001b[0m |\n",
      "| \u001b[95m4        \u001b[0m | \u001b[95m-14.95   \u001b[0m | \u001b[95m1.443    \u001b[0m | \u001b[95m0.3076   \u001b[0m | \u001b[95m9.908    \u001b[0m | \u001b[95m15.04    \u001b[0m | \u001b[95m1.052    \u001b[0m | \u001b[95m0.7083   \u001b[0m |\n",
      "| \u001b[0m5        \u001b[0m | \u001b[0m-15.05   \u001b[0m | \u001b[0m1.495    \u001b[0m | \u001b[0m0.3304   \u001b[0m | \u001b[0m8.016    \u001b[0m | \u001b[0m15.81    \u001b[0m | \u001b[0m1.467    \u001b[0m | \u001b[0m1.137    \u001b[0m |\n",
      "| \u001b[0m6        \u001b[0m | \u001b[0m-15.51   \u001b[0m | \u001b[0m0.2369   \u001b[0m | \u001b[0m0.5436   \u001b[0m | \u001b[0m8.559    \u001b[0m | \u001b[0m14.98    \u001b[0m | \u001b[0m1.321    \u001b[0m | \u001b[0m0.5237   \u001b[0m |\n",
      "| \u001b[0m7        \u001b[0m | \u001b[0m-15.43   \u001b[0m | \u001b[0m2.462    \u001b[0m | \u001b[0m0.526    \u001b[0m | \u001b[0m7.895    \u001b[0m | \u001b[0m18.19    \u001b[0m | \u001b[0m1.687    \u001b[0m | \u001b[0m0.5682   \u001b[0m |\n",
      "| \u001b[0m8        \u001b[0m | \u001b[0m-15.36   \u001b[0m | \u001b[0m2.378    \u001b[0m | \u001b[0m0.4871   \u001b[0m | \u001b[0m8.703    \u001b[0m | \u001b[0m16.32    \u001b[0m | \u001b[0m2.004    \u001b[0m | \u001b[0m0.6433   \u001b[0m |\n",
      "| \u001b[0m9        \u001b[0m | \u001b[0m-15.44   \u001b[0m | \u001b[0m1.475    \u001b[0m | \u001b[0m0.5427   \u001b[0m | \u001b[0m8.271    \u001b[0m | \u001b[0m15.78    \u001b[0m | \u001b[0m0.5158   \u001b[0m | \u001b[0m0.7621   \u001b[0m |\n",
      "| \u001b[0m10       \u001b[0m | \u001b[0m-15.09   \u001b[0m | \u001b[0m1.817    \u001b[0m | \u001b[0m0.3275   \u001b[0m | \u001b[0m7.166    \u001b[0m | \u001b[0m18.37    \u001b[0m | \u001b[0m0.8932   \u001b[0m | \u001b[0m1.14     \u001b[0m |\n",
      "| \u001b[0m11       \u001b[0m | \u001b[0m-15.44   \u001b[0m | \u001b[0m1.511    \u001b[0m | \u001b[0m0.3064   \u001b[0m | \u001b[0m11.95    \u001b[0m | \u001b[0m17.68    \u001b[0m | \u001b[0m1.338    \u001b[0m | \u001b[0m0.8166   \u001b[0m |\n",
      "| \u001b[0m12       \u001b[0m | \u001b[0m-15.15   \u001b[0m | \u001b[0m0.6961   \u001b[0m | \u001b[0m0.3405   \u001b[0m | \u001b[0m7.74     \u001b[0m | \u001b[0m16.42    \u001b[0m | \u001b[0m1.969    \u001b[0m | \u001b[0m0.2116   \u001b[0m |\n",
      "| \u001b[0m13       \u001b[0m | \u001b[0m-15.61   \u001b[0m | \u001b[0m0.2768   \u001b[0m | \u001b[0m0.544    \u001b[0m | \u001b[0m9.85     \u001b[0m | \u001b[0m16.1     \u001b[0m | \u001b[0m2.482    \u001b[0m | \u001b[0m0.7184   \u001b[0m |\n",
      "| \u001b[0m14       \u001b[0m | \u001b[0m-16.06   \u001b[0m | \u001b[0m2.272    \u001b[0m | \u001b[0m0.5386   \u001b[0m | \u001b[0m11.17    \u001b[0m | \u001b[0m16.8     \u001b[0m | \u001b[0m1.924    \u001b[0m | \u001b[0m0.6608   \u001b[0m |\n",
      "| \u001b[0m15       \u001b[0m | \u001b[0m-15.11   \u001b[0m | \u001b[0m2.392    \u001b[0m | \u001b[0m0.3667   \u001b[0m | \u001b[0m7.212    \u001b[0m | \u001b[0m17.15    \u001b[0m | \u001b[0m1.074    \u001b[0m | \u001b[0m0.3318   \u001b[0m |\n",
      "| \u001b[0m16       \u001b[0m | \u001b[0m-15.62   \u001b[0m | \u001b[0m1.904    \u001b[0m | \u001b[0m0.4532   \u001b[0m | \u001b[0m10.77    \u001b[0m | \u001b[0m19.78    \u001b[0m | \u001b[0m0.9183   \u001b[0m | \u001b[0m0.6656   \u001b[0m |\n",
      "| \u001b[0m17       \u001b[0m | \u001b[0m-15.58   \u001b[0m | \u001b[0m1.305    \u001b[0m | \u001b[0m0.4023   \u001b[0m | \u001b[0m10.15    \u001b[0m | \u001b[0m15.32    \u001b[0m | \u001b[0m0.517    \u001b[0m | \u001b[0m0.3255   \u001b[0m |\n",
      "| \u001b[95m18       \u001b[0m | \u001b[95m-14.94   \u001b[0m | \u001b[95m1.729    \u001b[0m | \u001b[95m0.316    \u001b[0m | \u001b[95m8.38     \u001b[0m | \u001b[95m19.16    \u001b[0m | \u001b[95m2.564    \u001b[0m | \u001b[95m0.8175   \u001b[0m |\n",
      "| \u001b[0m19       \u001b[0m | \u001b[0m-15.4    \u001b[0m | \u001b[0m0.7553   \u001b[0m | \u001b[0m0.5293   \u001b[0m | \u001b[0m9.411    \u001b[0m | \u001b[0m15.59    \u001b[0m | \u001b[0m2.592    \u001b[0m | \u001b[0m0.9727   \u001b[0m |\n",
      "| \u001b[0m20       \u001b[0m | \u001b[0m-15.54   \u001b[0m | \u001b[0m0.1611   \u001b[0m | \u001b[0m0.5397   \u001b[0m | \u001b[0m9.084    \u001b[0m | \u001b[0m19.85    \u001b[0m | \u001b[0m2.584    \u001b[0m | \u001b[0m0.7424   \u001b[0m |\n",
      "| \u001b[0m21       \u001b[0m | \u001b[0m-15.17   \u001b[0m | \u001b[0m1.379    \u001b[0m | \u001b[0m0.4316   \u001b[0m | \u001b[0m7.28     \u001b[0m | \u001b[0m18.2     \u001b[0m | \u001b[0m0.7555   \u001b[0m | \u001b[0m1.052    \u001b[0m |\n",
      "| \u001b[0m22       \u001b[0m | \u001b[0m-15.56   \u001b[0m | \u001b[0m1.252    \u001b[0m | \u001b[0m0.4381   \u001b[0m | \u001b[0m9.081    \u001b[0m | \u001b[0m18.74    \u001b[0m | \u001b[0m1.712    \u001b[0m | \u001b[0m0.4581   \u001b[0m |\n",
      "| \u001b[0m23       \u001b[0m | \u001b[0m-15.3    \u001b[0m | \u001b[0m1.513    \u001b[0m | \u001b[0m0.4447   \u001b[0m | \u001b[0m7.844    \u001b[0m | \u001b[0m15.9     \u001b[0m | \u001b[0m1.342    \u001b[0m | \u001b[0m1.152    \u001b[0m |\n",
      "| \u001b[0m24       \u001b[0m | \u001b[0m-15.1    \u001b[0m | \u001b[0m1.638    \u001b[0m | \u001b[0m0.3666   \u001b[0m | \u001b[0m8.226    \u001b[0m | \u001b[0m19.41    \u001b[0m | \u001b[0m2.574    \u001b[0m | \u001b[0m0.786    \u001b[0m |\n",
      "| \u001b[0m25       \u001b[0m | \u001b[0m-14.98   \u001b[0m | \u001b[0m1.492    \u001b[0m | \u001b[0m0.3      \u001b[0m | \u001b[0m9.731    \u001b[0m | \u001b[0m15.06    \u001b[0m | \u001b[0m1.259    \u001b[0m | \u001b[0m0.9405   \u001b[0m |\n",
      "| \u001b[0m26       \u001b[0m | \u001b[0m-15.59   \u001b[0m | \u001b[0m0.8004   \u001b[0m | \u001b[0m0.4296   \u001b[0m | \u001b[0m11.46    \u001b[0m | \u001b[0m15.08    \u001b[0m | \u001b[0m0.9068   \u001b[0m | \u001b[0m1.002    \u001b[0m |\n",
      "| \u001b[0m27       \u001b[0m | \u001b[0m-15.08   \u001b[0m | \u001b[0m1.629    \u001b[0m | \u001b[0m0.3      \u001b[0m | \u001b[0m9.571    \u001b[0m | \u001b[0m15.08    \u001b[0m | \u001b[0m1.228    \u001b[0m | \u001b[0m0.5176   \u001b[0m |\n",
      "| \u001b[95m28       \u001b[0m | \u001b[95m-14.89   \u001b[0m | \u001b[95m2.065    \u001b[0m | \u001b[95m0.3      \u001b[0m | \u001b[95m8.387    \u001b[0m | \u001b[95m19.12    \u001b[0m | \u001b[95m2.6      \u001b[0m | \u001b[95m1.172    \u001b[0m |\n",
      "| \u001b[0m29       \u001b[0m | \u001b[0m-15.69   \u001b[0m | \u001b[0m0.6224   \u001b[0m | \u001b[0m0.4996   \u001b[0m | \u001b[0m11.04    \u001b[0m | \u001b[0m16.98    \u001b[0m | \u001b[0m2.115    \u001b[0m | \u001b[0m1.152    \u001b[0m |\n",
      "| \u001b[0m30       \u001b[0m | \u001b[0m-14.99   \u001b[0m | \u001b[0m1.495    \u001b[0m | \u001b[0m0.3      \u001b[0m | \u001b[0m8.532    \u001b[0m | \u001b[0m15.51    \u001b[0m | \u001b[0m1.799    \u001b[0m | \u001b[0m1.177    \u001b[0m |\n",
      "| \u001b[0m31       \u001b[0m | \u001b[0m-14.99   \u001b[0m | \u001b[0m2.344    \u001b[0m | \u001b[0m0.3      \u001b[0m | \u001b[0m8.708    \u001b[0m | \u001b[0m19.21    \u001b[0m | \u001b[0m2.6      \u001b[0m | \u001b[0m0.696    \u001b[0m |\n",
      "| \u001b[0m32       \u001b[0m | \u001b[0m-14.96   \u001b[0m | \u001b[0m1.849    \u001b[0m | \u001b[0m0.3      \u001b[0m | \u001b[0m8.998    \u001b[0m | \u001b[0m19.21    \u001b[0m | \u001b[0m2.6      \u001b[0m | \u001b[0m1.2      \u001b[0m |\n",
      "| \u001b[0m33       \u001b[0m | \u001b[0m-14.94   \u001b[0m | \u001b[0m2.005    \u001b[0m | \u001b[0m0.3      \u001b[0m | \u001b[0m8.694    \u001b[0m | \u001b[0m18.48    \u001b[0m | \u001b[0m2.6      \u001b[0m | \u001b[0m1.173    \u001b[0m |\n",
      "| \u001b[0m34       \u001b[0m | \u001b[0m-15.15   \u001b[0m | \u001b[0m1.332    \u001b[0m | \u001b[0m0.3      \u001b[0m | \u001b[0m7.864    \u001b[0m | \u001b[0m15.59    \u001b[0m | \u001b[0m2.325    \u001b[0m | \u001b[0m0.983    \u001b[0m |\n",
      "| \u001b[0m35       \u001b[0m | \u001b[0m-15.42   \u001b[0m | \u001b[0m2.417    \u001b[0m | \u001b[0m0.3      \u001b[0m | \u001b[0m6.538    \u001b[0m | \u001b[0m17.83    \u001b[0m | \u001b[0m0.5      \u001b[0m | \u001b[0m0.7261   \u001b[0m |\n",
      "| \u001b[0m36       \u001b[0m | \u001b[0m-14.93   \u001b[0m | \u001b[0m1.094    \u001b[0m | \u001b[0m0.3      \u001b[0m | \u001b[0m8.464    \u001b[0m | \u001b[0m16.23    \u001b[0m | \u001b[0m1.821    \u001b[0m | \u001b[0m1.2      \u001b[0m |\n",
      "| \u001b[0m37       \u001b[0m | \u001b[0m-14.92   \u001b[0m | \u001b[0m2.202    \u001b[0m | \u001b[0m0.3      \u001b[0m | \u001b[0m8.591    \u001b[0m | \u001b[0m19.12    \u001b[0m | \u001b[0m1.913    \u001b[0m | \u001b[0m1.2      \u001b[0m |\n",
      "| \u001b[0m38       \u001b[0m | \u001b[0m-14.96   \u001b[0m | \u001b[0m2.08     \u001b[0m | \u001b[0m0.3      \u001b[0m | \u001b[0m7.704    \u001b[0m | \u001b[0m19.51    \u001b[0m | \u001b[0m1.277    \u001b[0m | \u001b[0m1.2      \u001b[0m |\n",
      "| \u001b[0m39       \u001b[0m | \u001b[0m-14.89   \u001b[0m | \u001b[0m2.5      \u001b[0m | \u001b[0m0.3      \u001b[0m | \u001b[0m8.311    \u001b[0m | \u001b[0m20.0     \u001b[0m | \u001b[0m1.769    \u001b[0m | \u001b[0m1.2      \u001b[0m |\n",
      "| \u001b[0m40       \u001b[0m | \u001b[0m-14.97   \u001b[0m | \u001b[0m2.5      \u001b[0m | \u001b[0m0.3      \u001b[0m | \u001b[0m8.392    \u001b[0m | \u001b[0m19.99    \u001b[0m | \u001b[0m0.7677   \u001b[0m | \u001b[0m1.2      \u001b[0m |\n",
      "| \u001b[0m41       \u001b[0m | \u001b[0m-15.15   \u001b[0m | \u001b[0m2.304    \u001b[0m | \u001b[0m0.3745   \u001b[0m | \u001b[0m7.895    \u001b[0m | \u001b[0m19.89    \u001b[0m | \u001b[0m0.8412   \u001b[0m | \u001b[0m0.3034   \u001b[0m |\n",
      "| \u001b[0m42       \u001b[0m | \u001b[0m-15.01   \u001b[0m | \u001b[0m2.5      \u001b[0m | \u001b[0m0.3      \u001b[0m | \u001b[0m7.072    \u001b[0m | \u001b[0m20.0     \u001b[0m | \u001b[0m0.5771   \u001b[0m | \u001b[0m1.2      \u001b[0m |\n",
      "| \u001b[0m43       \u001b[0m | \u001b[0m-14.99   \u001b[0m | \u001b[0m1.355    \u001b[0m | \u001b[0m0.3      \u001b[0m | \u001b[0m7.468    \u001b[0m | \u001b[0m20.0     \u001b[0m | \u001b[0m0.5      \u001b[0m | \u001b[0m1.2      \u001b[0m |\n",
      "| \u001b[0m44       \u001b[0m | \u001b[0m-15.29   \u001b[0m | \u001b[0m1.499    \u001b[0m | \u001b[0m0.3      \u001b[0m | \u001b[0m6.436    \u001b[0m | \u001b[0m19.73    \u001b[0m | \u001b[0m1.075    \u001b[0m | \u001b[0m1.2      \u001b[0m |\n",
      "| \u001b[0m45       \u001b[0m | \u001b[0m-14.98   \u001b[0m | \u001b[0m1.446    \u001b[0m | \u001b[0m0.3073   \u001b[0m | \u001b[0m8.595    \u001b[0m | \u001b[0m19.98    \u001b[0m | \u001b[0m1.091    \u001b[0m | \u001b[0m1.134    \u001b[0m |\n",
      "| \u001b[0m46       \u001b[0m | \u001b[0m-14.93   \u001b[0m | \u001b[0m1.807    \u001b[0m | \u001b[0m0.3      \u001b[0m | \u001b[0m8.123    \u001b[0m | \u001b[0m19.19    \u001b[0m | \u001b[0m0.5      \u001b[0m | \u001b[0m1.2      \u001b[0m |\n",
      "| \u001b[0m47       \u001b[0m | \u001b[0m-14.93   \u001b[0m | \u001b[0m0.4729   \u001b[0m | \u001b[0m0.3      \u001b[0m | \u001b[0m8.118    \u001b[0m | \u001b[0m19.55    \u001b[0m | \u001b[0m0.5      \u001b[0m | \u001b[0m1.2      \u001b[0m |\n",
      "| \u001b[0m48       \u001b[0m | \u001b[0m-15.3    \u001b[0m | \u001b[0m0.3525   \u001b[0m | \u001b[0m0.4279   \u001b[0m | \u001b[0m7.625    \u001b[0m | \u001b[0m19.86    \u001b[0m | \u001b[0m0.6889   \u001b[0m | \u001b[0m0.4654   \u001b[0m |\n",
      "| \u001b[0m49       \u001b[0m | \u001b[0m-14.9    \u001b[0m | \u001b[0m0.244    \u001b[0m | \u001b[0m0.3      \u001b[0m | \u001b[0m9.033    \u001b[0m | \u001b[0m20.0     \u001b[0m | \u001b[0m0.5      \u001b[0m | \u001b[0m1.2      \u001b[0m |\n",
      "| \u001b[0m50       \u001b[0m | \u001b[0m-14.94   \u001b[0m | \u001b[0m0.1      \u001b[0m | \u001b[0m0.3      \u001b[0m | \u001b[0m8.96     \u001b[0m | \u001b[0m18.97    \u001b[0m | \u001b[0m0.5      \u001b[0m | \u001b[0m1.2      \u001b[0m |\n",
      "| \u001b[0m51       \u001b[0m | \u001b[0m-15.68   \u001b[0m | \u001b[0m2.5      \u001b[0m | \u001b[0m0.3      \u001b[0m | \u001b[0m6.0      \u001b[0m | \u001b[0m13.0     \u001b[0m | \u001b[0m2.6      \u001b[0m | \u001b[0m1.2      \u001b[0m |\n",
      "| \u001b[0m52       \u001b[0m | \u001b[0m-14.93   \u001b[0m | \u001b[0m0.9946   \u001b[0m | \u001b[0m0.3      \u001b[0m | \u001b[0m8.917    \u001b[0m | \u001b[0m19.42    \u001b[0m | \u001b[0m0.5      \u001b[0m | \u001b[0m1.2      \u001b[0m |\n",
      "| \u001b[0m53       \u001b[0m | \u001b[0m-15.97   \u001b[0m | \u001b[0m0.1      \u001b[0m | \u001b[0m0.55     \u001b[0m | \u001b[0m9.497    \u001b[0m | \u001b[0m20.0     \u001b[0m | \u001b[0m0.5      \u001b[0m | \u001b[0m0.2      \u001b[0m |\n",
      "| \u001b[0m54       \u001b[0m | \u001b[0m-14.94   \u001b[0m | \u001b[0m0.1      \u001b[0m | \u001b[0m0.3      \u001b[0m | \u001b[0m8.29     \u001b[0m | \u001b[0m17.93    \u001b[0m | \u001b[0m0.5      \u001b[0m | \u001b[0m1.2      \u001b[0m |\n",
      "| \u001b[0m55       \u001b[0m | \u001b[0m-14.94   \u001b[0m | \u001b[0m0.1      \u001b[0m | \u001b[0m0.3      \u001b[0m | \u001b[0m8.173    \u001b[0m | \u001b[0m17.41    \u001b[0m | \u001b[0m1.658    \u001b[0m | \u001b[0m1.2      \u001b[0m |\n",
      "| \u001b[0m56       \u001b[0m | \u001b[0m-15.09   \u001b[0m | \u001b[0m0.1      \u001b[0m | \u001b[0m0.3      \u001b[0m | \u001b[0m7.858    \u001b[0m | \u001b[0m16.79    \u001b[0m | \u001b[0m2.6      \u001b[0m | \u001b[0m1.2      \u001b[0m |\n",
      "| \u001b[0m57       \u001b[0m | \u001b[0m-14.97   \u001b[0m | \u001b[0m0.1      \u001b[0m | \u001b[0m0.3      \u001b[0m | \u001b[0m7.928    \u001b[0m | \u001b[0m18.57    \u001b[0m | \u001b[0m1.374    \u001b[0m | \u001b[0m1.2      \u001b[0m |\n",
      "| \u001b[0m58       \u001b[0m | \u001b[0m-15.06   \u001b[0m | \u001b[0m0.1      \u001b[0m | \u001b[0m0.3      \u001b[0m | \u001b[0m7.16     \u001b[0m | \u001b[0m17.46    \u001b[0m | \u001b[0m1.014    \u001b[0m | \u001b[0m1.2      \u001b[0m |\n",
      "| \u001b[0m59       \u001b[0m | \u001b[0m-15.65   \u001b[0m | \u001b[0m0.1      \u001b[0m | \u001b[0m0.3      \u001b[0m | \u001b[0m6.0      \u001b[0m | \u001b[0m13.0     \u001b[0m | \u001b[0m0.5      \u001b[0m | \u001b[0m1.2      \u001b[0m |\n",
      "| \u001b[0m60       \u001b[0m | \u001b[0m-15.12   \u001b[0m | \u001b[0m0.1      \u001b[0m | \u001b[0m0.3      \u001b[0m | \u001b[0m7.964    \u001b[0m | \u001b[0m17.49    \u001b[0m | \u001b[0m0.8676   \u001b[0m | \u001b[0m0.2      \u001b[0m |\n",
      "=================================================================================================\n",
      "Time for run : ~1 min\n"
     ]
    }
   ],
   "source": [
    "st_time = ct()\n",
    "xgb_op.maximize(init_points=10, n_iter=50)\n",
    "print('Time for run : ~{:.0f} min'.format((ct()-st_time)/60))"
   ]
  },
  {
   "cell_type": "code",
   "execution_count": 30,
   "id": "992dbdc4",
   "metadata": {
    "execution": {
     "iopub.execute_input": "2023-12-28T04:46:55.092441Z",
     "iopub.status.busy": "2023-12-28T04:46:55.092161Z",
     "iopub.status.idle": "2023-12-28T04:46:55.098129Z",
     "shell.execute_reply": "2023-12-28T04:46:55.097270Z"
    },
    "papermill": {
     "duration": 0.031167,
     "end_time": "2023-12-28T04:46:55.100215",
     "exception": false,
     "start_time": "2023-12-28T04:46:55.069048",
     "status": "completed"
    },
    "tags": []
   },
   "outputs": [
    {
     "data": {
      "text/plain": [
       "{'gamma': 2.065038426325385,\n",
       " 'learning_rate': 0.3,\n",
       " 'max_depth': 8.38737507439884,\n",
       " 'n_estimators': 19.122711519294988,\n",
       " 'reg_alpha': 2.6,\n",
       " 'reg_lambda': 1.1715773304036057}"
      ]
     },
     "execution_count": 30,
     "metadata": {},
     "output_type": "execute_result"
    }
   ],
   "source": [
    "op_params = xgb_op.max[\"params\"]\n",
    "op_params"
   ]
  },
  {
   "cell_type": "code",
   "execution_count": 31,
   "id": "ece4afaf",
   "metadata": {
    "execution": {
     "iopub.execute_input": "2023-12-28T04:46:55.148319Z",
     "iopub.status.busy": "2023-12-28T04:46:55.147778Z",
     "iopub.status.idle": "2023-12-28T04:46:55.154531Z",
     "shell.execute_reply": "2023-12-28T04:46:55.153758Z"
    },
    "papermill": {
     "duration": 0.032184,
     "end_time": "2023-12-28T04:46:55.156412",
     "exception": false,
     "start_time": "2023-12-28T04:46:55.124228",
     "status": "completed"
    },
    "tags": []
   },
   "outputs": [],
   "source": [
    "# Retraining the Model using optimized values\n",
    "gm_o = op_params['gamma']\n",
    "lr_o = op_params['learning_rate']\n",
    "md_o = int(round(op_params['max_depth']))\n",
    "ne_o = int(round(op_params['n_estimators']))\n",
    "ra_o = op_params['reg_alpha']\n",
    "rl_o = op_params['reg_lambda']\n",
    "\n",
    "xgB_O=XGBRegressor(alpha=10, base_score=0.5, booster='gbtree', colsample_bylevel=1,\n",
    "             colsample_bynode=1, colsample_bytree=0.3, gamma=gm_o,\n",
    "             importance_type='gain', learning_rate=lr_o, max_delta_step=0,\n",
    "             max_depth=md_o, min_child_weight=1, missing=np.NaN, n_estimators=ne_o,\n",
    "             n_jobs=1, nthread=None, objective='reg:squarederror', random_state=7272,\n",
    "             reg_alpha=ra_o, reg_lambda=rl_o, scale_pos_weight=1, seed=7272,\n",
    "             silent=None, subsample=1, verbosity=1)"
   ]
  },
  {
   "cell_type": "code",
   "execution_count": 32,
   "id": "cbc7ddcb",
   "metadata": {
    "execution": {
     "iopub.execute_input": "2023-12-28T04:46:55.201650Z",
     "iopub.status.busy": "2023-12-28T04:46:55.201386Z",
     "iopub.status.idle": "2023-12-28T04:46:55.597928Z",
     "shell.execute_reply": "2023-12-28T04:46:55.597147Z"
    },
    "papermill": {
     "duration": 0.421604,
     "end_time": "2023-12-28T04:46:55.600162",
     "exception": false,
     "start_time": "2023-12-28T04:46:55.178558",
     "status": "completed"
    },
    "tags": []
   },
   "outputs": [
    {
     "data": {
      "text/html": [
       "<style>#sk-container-id-3 {color: black;background-color: white;}#sk-container-id-3 pre{padding: 0;}#sk-container-id-3 div.sk-toggleable {background-color: white;}#sk-container-id-3 label.sk-toggleable__label {cursor: pointer;display: block;width: 100%;margin-bottom: 0;padding: 0.3em;box-sizing: border-box;text-align: center;}#sk-container-id-3 label.sk-toggleable__label-arrow:before {content: \"▸\";float: left;margin-right: 0.25em;color: #696969;}#sk-container-id-3 label.sk-toggleable__label-arrow:hover:before {color: black;}#sk-container-id-3 div.sk-estimator:hover label.sk-toggleable__label-arrow:before {color: black;}#sk-container-id-3 div.sk-toggleable__content {max-height: 0;max-width: 0;overflow: hidden;text-align: left;background-color: #f0f8ff;}#sk-container-id-3 div.sk-toggleable__content pre {margin: 0.2em;color: black;border-radius: 0.25em;background-color: #f0f8ff;}#sk-container-id-3 input.sk-toggleable__control:checked~div.sk-toggleable__content {max-height: 200px;max-width: 100%;overflow: auto;}#sk-container-id-3 input.sk-toggleable__control:checked~label.sk-toggleable__label-arrow:before {content: \"▾\";}#sk-container-id-3 div.sk-estimator input.sk-toggleable__control:checked~label.sk-toggleable__label {background-color: #d4ebff;}#sk-container-id-3 div.sk-label input.sk-toggleable__control:checked~label.sk-toggleable__label {background-color: #d4ebff;}#sk-container-id-3 input.sk-hidden--visually {border: 0;clip: rect(1px 1px 1px 1px);clip: rect(1px, 1px, 1px, 1px);height: 1px;margin: -1px;overflow: hidden;padding: 0;position: absolute;width: 1px;}#sk-container-id-3 div.sk-estimator {font-family: monospace;background-color: #f0f8ff;border: 1px dotted black;border-radius: 0.25em;box-sizing: border-box;margin-bottom: 0.5em;}#sk-container-id-3 div.sk-estimator:hover {background-color: #d4ebff;}#sk-container-id-3 div.sk-parallel-item::after {content: \"\";width: 100%;border-bottom: 1px solid gray;flex-grow: 1;}#sk-container-id-3 div.sk-label:hover label.sk-toggleable__label {background-color: #d4ebff;}#sk-container-id-3 div.sk-serial::before {content: \"\";position: absolute;border-left: 1px solid gray;box-sizing: border-box;top: 0;bottom: 0;left: 50%;z-index: 0;}#sk-container-id-3 div.sk-serial {display: flex;flex-direction: column;align-items: center;background-color: white;padding-right: 0.2em;padding-left: 0.2em;position: relative;}#sk-container-id-3 div.sk-item {position: relative;z-index: 1;}#sk-container-id-3 div.sk-parallel {display: flex;align-items: stretch;justify-content: center;background-color: white;position: relative;}#sk-container-id-3 div.sk-item::before, #sk-container-id-3 div.sk-parallel-item::before {content: \"\";position: absolute;border-left: 1px solid gray;box-sizing: border-box;top: 0;bottom: 0;left: 50%;z-index: -1;}#sk-container-id-3 div.sk-parallel-item {display: flex;flex-direction: column;z-index: 1;position: relative;background-color: white;}#sk-container-id-3 div.sk-parallel-item:first-child::after {align-self: flex-end;width: 50%;}#sk-container-id-3 div.sk-parallel-item:last-child::after {align-self: flex-start;width: 50%;}#sk-container-id-3 div.sk-parallel-item:only-child::after {width: 0;}#sk-container-id-3 div.sk-dashed-wrapped {border: 1px dashed gray;margin: 0 0.4em 0.5em 0.4em;box-sizing: border-box;padding-bottom: 0.4em;background-color: white;}#sk-container-id-3 div.sk-label label {font-family: monospace;font-weight: bold;display: inline-block;line-height: 1.2em;}#sk-container-id-3 div.sk-label-container {text-align: center;}#sk-container-id-3 div.sk-container {/* jupyter's `normalize.less` sets `[hidden] { display: none; }` but bootstrap.min.css set `[hidden] { display: none !important; }` so we also need the `!important` here to be able to override the default hidden behavior on the sphinx rendered scikit-learn.org. See: https://github.com/scikit-learn/scikit-learn/issues/21755 */display: inline-block !important;position: relative;}#sk-container-id-3 div.sk-text-repr-fallback {display: none;}</style><div id=\"sk-container-id-3\" class=\"sk-top-container\"><div class=\"sk-text-repr-fallback\"><pre>XGBRegressor(alpha=10, base_score=0.5, booster=&#x27;gbtree&#x27;, callbacks=None,\n",
       "             colsample_bylevel=1, colsample_bynode=1, colsample_bytree=0.3,\n",
       "             device=None, early_stopping_rounds=None, enable_categorical=False,\n",
       "             eval_metric=None, feature_types=None, gamma=2.065038426325385,\n",
       "             grow_policy=None, importance_type=&#x27;gain&#x27;,\n",
       "             interaction_constraints=None, learning_rate=0.3, max_bin=None,\n",
       "             max_cat_threshold=None, max_cat_to_onehot=None, max_delta_step=0,\n",
       "             max_depth=8, max_leaves=None, min_child_weight=1, missing=nan,\n",
       "             monotone_constraints=None, multi_strategy=None, n_estimators=19,\n",
       "             n_jobs=1, nthread=None, ...)</pre><b>In a Jupyter environment, please rerun this cell to show the HTML representation or trust the notebook. <br />On GitHub, the HTML representation is unable to render, please try loading this page with nbviewer.org.</b></div><div class=\"sk-container\" hidden><div class=\"sk-item\"><div class=\"sk-estimator sk-toggleable\"><input class=\"sk-toggleable__control sk-hidden--visually\" id=\"sk-estimator-id-3\" type=\"checkbox\" checked><label for=\"sk-estimator-id-3\" class=\"sk-toggleable__label sk-toggleable__label-arrow\">XGBRegressor</label><div class=\"sk-toggleable__content\"><pre>XGBRegressor(alpha=10, base_score=0.5, booster=&#x27;gbtree&#x27;, callbacks=None,\n",
       "             colsample_bylevel=1, colsample_bynode=1, colsample_bytree=0.3,\n",
       "             device=None, early_stopping_rounds=None, enable_categorical=False,\n",
       "             eval_metric=None, feature_types=None, gamma=2.065038426325385,\n",
       "             grow_policy=None, importance_type=&#x27;gain&#x27;,\n",
       "             interaction_constraints=None, learning_rate=0.3, max_bin=None,\n",
       "             max_cat_threshold=None, max_cat_to_onehot=None, max_delta_step=0,\n",
       "             max_depth=8, max_leaves=None, min_child_weight=1, missing=nan,\n",
       "             monotone_constraints=None, multi_strategy=None, n_estimators=19,\n",
       "             n_jobs=1, nthread=None, ...)</pre></div></div></div></div></div>"
      ],
      "text/plain": [
       "XGBRegressor(alpha=10, base_score=0.5, booster='gbtree', callbacks=None,\n",
       "             colsample_bylevel=1, colsample_bynode=1, colsample_bytree=0.3,\n",
       "             device=None, early_stopping_rounds=None, enable_categorical=False,\n",
       "             eval_metric=None, feature_types=None, gamma=2.065038426325385,\n",
       "             grow_policy=None, importance_type='gain',\n",
       "             interaction_constraints=None, learning_rate=0.3, max_bin=None,\n",
       "             max_cat_threshold=None, max_cat_to_onehot=None, max_delta_step=0,\n",
       "             max_depth=8, max_leaves=None, min_child_weight=1, missing=nan,\n",
       "             monotone_constraints=None, multi_strategy=None, n_estimators=19,\n",
       "             n_jobs=1, nthread=None, ...)"
      ]
     },
     "execution_count": 32,
     "metadata": {},
     "output_type": "execute_result"
    }
   ],
   "source": [
    "xgB_O.fit(X_tr2,y_train)"
   ]
  },
  {
   "cell_type": "code",
   "execution_count": 33,
   "id": "1add8d3a",
   "metadata": {
    "execution": {
     "iopub.execute_input": "2023-12-28T04:46:55.647712Z",
     "iopub.status.busy": "2023-12-28T04:46:55.647426Z",
     "iopub.status.idle": "2023-12-28T04:46:56.610609Z",
     "shell.execute_reply": "2023-12-28T04:46:56.609734Z"
    },
    "papermill": {
     "duration": 0.989538,
     "end_time": "2023-12-28T04:46:56.613065",
     "exception": false,
     "start_time": "2023-12-28T04:46:55.623527",
     "status": "completed"
    },
    "tags": []
   },
   "outputs": [
    {
     "name": "stderr",
     "output_type": "stream",
     "text": [
      "/opt/conda/lib/python3.10/site-packages/seaborn/_oldcore.py:1119: FutureWarning: use_inf_as_na option is deprecated and will be removed in a future version. Convert inf values to NaN before operating instead.\n",
      "  with pd.option_context('mode.use_inf_as_na', True):\n",
      "/opt/conda/lib/python3.10/site-packages/seaborn/_oldcore.py:1119: FutureWarning: use_inf_as_na option is deprecated and will be removed in a future version. Convert inf values to NaN before operating instead.\n",
      "  with pd.option_context('mode.use_inf_as_na', True):\n"
     ]
    },
    {
     "data": {
      "text/html": [
       "<div>\n",
       "<style scoped>\n",
       "    .dataframe tbody tr th:only-of-type {\n",
       "        vertical-align: middle;\n",
       "    }\n",
       "\n",
       "    .dataframe tbody tr th {\n",
       "        vertical-align: top;\n",
       "    }\n",
       "\n",
       "    .dataframe thead th {\n",
       "        text-align: right;\n",
       "    }\n",
       "</style>\n",
       "<table border=\"1\" class=\"dataframe\">\n",
       "  <thead>\n",
       "    <tr style=\"text-align: right;\">\n",
       "      <th></th>\n",
       "      <th>Value</th>\n",
       "    </tr>\n",
       "    <tr>\n",
       "      <th>Evaluation Metric</th>\n",
       "      <th></th>\n",
       "    </tr>\n",
       "  </thead>\n",
       "  <tbody>\n",
       "    <tr>\n",
       "      <th>Length of Data</th>\n",
       "      <td>41028.00</td>\n",
       "    </tr>\n",
       "    <tr>\n",
       "      <th>MAE</th>\n",
       "      <td>74.66</td>\n",
       "    </tr>\n",
       "    <tr>\n",
       "      <th>MAPE</th>\n",
       "      <td>74.18</td>\n",
       "    </tr>\n",
       "    <tr>\n",
       "      <th>RMSE</th>\n",
       "      <td>19.51</td>\n",
       "    </tr>\n",
       "    <tr>\n",
       "      <th>RMSLE</th>\n",
       "      <td>0.12</td>\n",
       "    </tr>\n",
       "    <tr>\n",
       "      <th>Coefficient of Determination - R2</th>\n",
       "      <td>0.93</td>\n",
       "    </tr>\n",
       "    <tr>\n",
       "      <th>Adj. R2</th>\n",
       "      <td>0.93</td>\n",
       "    </tr>\n",
       "    <tr>\n",
       "      <th>Over-prediction Magnitude</th>\n",
       "      <td>75.87</td>\n",
       "    </tr>\n",
       "    <tr>\n",
       "      <th>Percentage of Over-prediction</th>\n",
       "      <td>5.57</td>\n",
       "    </tr>\n",
       "    <tr>\n",
       "      <th>Under-prediction Magnitude</th>\n",
       "      <td>73.39</td>\n",
       "    </tr>\n",
       "    <tr>\n",
       "      <th>Percentage of Under-prediction</th>\n",
       "      <td>5.35</td>\n",
       "    </tr>\n",
       "  </tbody>\n",
       "</table>\n",
       "</div>"
      ],
      "text/plain": [
       "                                      Value\n",
       "Evaluation Metric                          \n",
       "Length of Data                     41028.00\n",
       "MAE                                   74.66\n",
       "MAPE                                  74.18\n",
       "RMSE                                  19.51\n",
       "RMSLE                                  0.12\n",
       "Coefficient of Determination - R2      0.93\n",
       "Adj. R2                                0.93\n",
       "Over-prediction Magnitude             75.87\n",
       "Percentage of Over-prediction          5.57\n",
       "Under-prediction Magnitude            73.39\n",
       "Percentage of Under-prediction         5.35"
      ]
     },
     "execution_count": 33,
     "metadata": {},
     "output_type": "execute_result"
    },
    {
     "data": {
      "image/png": "[encoded data removed]",
      "text/plain": [
       "<Figure size 640x480 with 1 Axes>"
      ]
     },
     "metadata": {},
     "output_type": "display_data"
    },
    {
     "data": {
      "text/plain": [
       "<Figure size 2000x800 with 0 Axes>"
      ]
     },
     "metadata": {},
     "output_type": "display_data"
    }
   ],
   "source": [
    "y_actual = y_test\n",
    "y_pred = pd.Series(xgB_O.predict(X_te2))\n",
    "regression_eval(y_true=y_actual,y_pred=y_pred,predictors=5)"
   ]
  },
  {
   "cell_type": "code",
   "execution_count": 34,
   "id": "1c2007ad",
   "metadata": {
    "execution": {
     "iopub.execute_input": "2023-12-28T04:46:56.662228Z",
     "iopub.status.busy": "2023-12-28T04:46:56.661906Z",
     "iopub.status.idle": "2023-12-28T04:46:56.673504Z",
     "shell.execute_reply": "2023-12-28T04:46:56.672713Z"
    },
    "papermill": {
     "duration": 0.038282,
     "end_time": "2023-12-28T04:46:56.675367",
     "exception": false,
     "start_time": "2023-12-28T04:46:56.637085",
     "status": "completed"
    },
    "tags": []
   },
   "outputs": [
    {
     "data": {
      "text/html": [
       "<div>\n",
       "<style scoped>\n",
       "    .dataframe tbody tr th:only-of-type {\n",
       "        vertical-align: middle;\n",
       "    }\n",
       "\n",
       "    .dataframe tbody tr th {\n",
       "        vertical-align: top;\n",
       "    }\n",
       "\n",
       "    .dataframe thead th {\n",
       "        text-align: right;\n",
       "    }\n",
       "</style>\n",
       "<table border=\"1\" class=\"dataframe\">\n",
       "  <thead>\n",
       "    <tr style=\"text-align: right;\">\n",
       "      <th></th>\n",
       "      <th>index</th>\n",
       "      <th>Feature</th>\n",
       "      <th>Importance</th>\n",
       "    </tr>\n",
       "  </thead>\n",
       "  <tbody>\n",
       "    <tr>\n",
       "      <th>0</th>\n",
       "      <td>1</td>\n",
       "      <td>distance_traveled</td>\n",
       "      <td>0.711212</td>\n",
       "    </tr>\n",
       "    <tr>\n",
       "      <th>1</th>\n",
       "      <td>3</td>\n",
       "      <td>tip</td>\n",
       "      <td>0.112122</td>\n",
       "    </tr>\n",
       "    <tr>\n",
       "      <th>2</th>\n",
       "      <td>0</td>\n",
       "      <td>trip_duration</td>\n",
       "      <td>0.095169</td>\n",
       "    </tr>\n",
       "    <tr>\n",
       "      <th>3</th>\n",
       "      <td>4</td>\n",
       "      <td>miscellaneous_fees</td>\n",
       "      <td>0.057867</td>\n",
       "    </tr>\n",
       "    <tr>\n",
       "      <th>4</th>\n",
       "      <td>2</td>\n",
       "      <td>num_of_passengers</td>\n",
       "      <td>0.023631</td>\n",
       "    </tr>\n",
       "  </tbody>\n",
       "</table>\n",
       "</div>"
      ],
      "text/plain": [
       "   index             Feature  Importance\n",
       "0      1   distance_traveled    0.711212\n",
       "1      3                 tip    0.112122\n",
       "2      0       trip_duration    0.095169\n",
       "3      4  miscellaneous_fees    0.057867\n",
       "4      2   num_of_passengers    0.023631"
      ]
     },
     "execution_count": 34,
     "metadata": {},
     "output_type": "execute_result"
    }
   ],
   "source": [
    "# Simple Feature Importance\n",
    "f_imp = pd.DataFrame({'Feature':X_tr2.columns,'Importance':xgB_O.feature_importances_}).sort_values(by = 'Importance')\n",
    "# f_imp.tail(10).sort_values(by = 'Importance',ascending = False).reset_index()\n",
    "f_imp.sort_values(by = 'Importance',ascending = False).reset_index()"
   ]
  },
  {
   "cell_type": "code",
   "execution_count": 35,
   "id": "ce077574",
   "metadata": {
    "execution": {
     "iopub.execute_input": "2023-12-28T04:46:56.725502Z",
     "iopub.status.busy": "2023-12-28T04:46:56.725249Z",
     "iopub.status.idle": "2023-12-28T04:46:57.085447Z",
     "shell.execute_reply": "2023-12-28T04:46:57.084569Z"
    },
    "papermill": {
     "duration": 0.386821,
     "end_time": "2023-12-28T04:46:57.087604",
     "exception": false,
     "start_time": "2023-12-28T04:46:56.700783",
     "status": "completed"
    },
    "tags": []
   },
   "outputs": [
    {
     "data": {
      "text/plain": [
       "<Axes: title={'center': 'Feature Importance'}, ylabel='Feature'>"
      ]
     },
     "execution_count": 35,
     "metadata": {},
     "output_type": "execute_result"
    },
    {
     "data": {
      "image/png": "[encoded data removed]",
      "text/plain": [
       "<Figure size 500x400 with 1 Axes>"
      ]
     },
     "metadata": {},
     "output_type": "display_data"
    }
   ],
   "source": [
    "f_imp.tail(10).plot(kind='barh',title='Feature Importance',y='Importance',x='Feature',color='g',figsize=(5,4))"
   ]
  },
  {
   "cell_type": "markdown",
   "id": "d388f18b",
   "metadata": {
    "papermill": {
     "duration": 0.025661,
     "end_time": "2023-12-28T04:46:57.137963",
     "exception": false,
     "start_time": "2023-12-28T04:46:57.112302",
     "status": "completed"
    },
    "tags": []
   },
   "source": [
    "# # Predicting for the test data"
   ]
  },
  {
   "cell_type": "code",
   "execution_count": 36,
   "id": "2d6ae344",
   "metadata": {
    "execution": {
     "iopub.execute_input": "2023-12-28T04:46:57.187670Z",
     "iopub.status.busy": "2023-12-28T04:46:57.187386Z",
     "iopub.status.idle": "2023-12-28T04:46:57.199874Z",
     "shell.execute_reply": "2023-12-28T04:46:57.199028Z"
    },
    "papermill": {
     "duration": 0.039537,
     "end_time": "2023-12-28T04:46:57.201726",
     "exception": false,
     "start_time": "2023-12-28T04:46:57.162189",
     "status": "completed"
    },
    "tags": []
   },
   "outputs": [
    {
     "data": {
      "text/html": [
       "<div>\n",
       "<style scoped>\n",
       "    .dataframe tbody tr th:only-of-type {\n",
       "        vertical-align: middle;\n",
       "    }\n",
       "\n",
       "    .dataframe tbody tr th {\n",
       "        vertical-align: top;\n",
       "    }\n",
       "\n",
       "    .dataframe thead th {\n",
       "        text-align: right;\n",
       "    }\n",
       "</style>\n",
       "<table border=\"1\" class=\"dataframe\">\n",
       "  <thead>\n",
       "    <tr style=\"text-align: right;\">\n",
       "      <th></th>\n",
       "      <th>trip_duration</th>\n",
       "      <th>distance_traveled</th>\n",
       "      <th>num_of_passengers</th>\n",
       "      <th>tip</th>\n",
       "      <th>miscellaneous_fees</th>\n",
       "      <th>total_fare</th>\n",
       "    </tr>\n",
       "  </thead>\n",
       "  <tbody>\n",
       "    <tr>\n",
       "      <th>0</th>\n",
       "      <td>1076.0</td>\n",
       "      <td>4.18</td>\n",
       "      <td>1.0</td>\n",
       "      <td>0</td>\n",
       "      <td>13.500</td>\n",
       "      <td>0</td>\n",
       "    </tr>\n",
       "    <tr>\n",
       "      <th>1</th>\n",
       "      <td>429.0</td>\n",
       "      <td>1.48</td>\n",
       "      <td>4.0</td>\n",
       "      <td>0</td>\n",
       "      <td>13.500</td>\n",
       "      <td>0</td>\n",
       "    </tr>\n",
       "    <tr>\n",
       "      <th>2</th>\n",
       "      <td>856.0</td>\n",
       "      <td>4.15</td>\n",
       "      <td>1.0</td>\n",
       "      <td>24</td>\n",
       "      <td>6.000</td>\n",
       "      <td>0</td>\n",
       "    </tr>\n",
       "    <tr>\n",
       "      <th>3</th>\n",
       "      <td>622.0</td>\n",
       "      <td>3.22</td>\n",
       "      <td>1.0</td>\n",
       "      <td>15</td>\n",
       "      <td>5.625</td>\n",
       "      <td>0</td>\n",
       "    </tr>\n",
       "    <tr>\n",
       "      <th>4</th>\n",
       "      <td>507.0</td>\n",
       "      <td>3.98</td>\n",
       "      <td>1.0</td>\n",
       "      <td>0</td>\n",
       "      <td>2.250</td>\n",
       "      <td>0</td>\n",
       "    </tr>\n",
       "  </tbody>\n",
       "</table>\n",
       "</div>"
      ],
      "text/plain": [
       "   trip_duration  distance_traveled  num_of_passengers  tip  \\\n",
       "0         1076.0               4.18                1.0    0   \n",
       "1          429.0               1.48                4.0    0   \n",
       "2          856.0               4.15                1.0   24   \n",
       "3          622.0               3.22                1.0   15   \n",
       "4          507.0               3.98                1.0    0   \n",
       "\n",
       "   miscellaneous_fees  total_fare  \n",
       "0              13.500           0  \n",
       "1              13.500           0  \n",
       "2               6.000           0  \n",
       "3               5.625           0  \n",
       "4               2.250           0  "
      ]
     },
     "execution_count": 36,
     "metadata": {},
     "output_type": "execute_result"
    }
   ],
   "source": [
    "test_df.head()"
   ]
  },
  {
   "cell_type": "code",
   "execution_count": 37,
   "id": "bf45aa14",
   "metadata": {
    "execution": {
     "iopub.execute_input": "2023-12-28T04:46:57.251563Z",
     "iopub.status.busy": "2023-12-28T04:46:57.251264Z",
     "iopub.status.idle": "2023-12-28T04:46:57.321117Z",
     "shell.execute_reply": "2023-12-28T04:46:57.320441Z"
    },
    "papermill": {
     "duration": 0.096981,
     "end_time": "2023-12-28T04:46:57.323096",
     "exception": false,
     "start_time": "2023-12-28T04:46:57.226115",
     "status": "completed"
    },
    "tags": []
   },
   "outputs": [],
   "source": [
    "test_df.drop('total_fare',axis=1,inplace=True)\n",
    "X_test_final = pd.DataFrame(ss.transform(test_df),columns=test_df.columns)\n",
    "y_pred_final = pd.Series(xgB_O.predict(X_test_final))"
   ]
  },
  {
   "cell_type": "code",
   "execution_count": 38,
   "id": "894f1e4e",
   "metadata": {
    "execution": {
     "iopub.execute_input": "2023-12-28T04:46:57.372946Z",
     "iopub.status.busy": "2023-12-28T04:46:57.372696Z",
     "iopub.status.idle": "2023-12-28T04:46:57.378004Z",
     "shell.execute_reply": "2023-12-28T04:46:57.377206Z"
    },
    "papermill": {
     "duration": 0.03222,
     "end_time": "2023-12-28T04:46:57.379784",
     "exception": false,
     "start_time": "2023-12-28T04:46:57.347564",
     "status": "completed"
    },
    "tags": []
   },
   "outputs": [
    {
     "data": {
      "text/plain": [
       "(89861,)"
      ]
     },
     "execution_count": 38,
     "metadata": {},
     "output_type": "execute_result"
    }
   ],
   "source": [
    "y_pred_final.shape"
   ]
  },
  {
   "cell_type": "code",
   "execution_count": 39,
   "id": "b8ffad43",
   "metadata": {
    "execution": {
     "iopub.execute_input": "2023-12-28T04:46:57.430881Z",
     "iopub.status.busy": "2023-12-28T04:46:57.430385Z",
     "iopub.status.idle": "2023-12-28T04:46:57.438885Z",
     "shell.execute_reply": "2023-12-28T04:46:57.438036Z"
    },
    "papermill": {
     "duration": 0.036227,
     "end_time": "2023-12-28T04:46:57.441038",
     "exception": false,
     "start_time": "2023-12-28T04:46:57.404811",
     "status": "completed"
    },
    "tags": []
   },
   "outputs": [
    {
     "data": {
      "text/html": [
       "<div>\n",
       "<style scoped>\n",
       "    .dataframe tbody tr th:only-of-type {\n",
       "        vertical-align: middle;\n",
       "    }\n",
       "\n",
       "    .dataframe tbody tr th {\n",
       "        vertical-align: top;\n",
       "    }\n",
       "\n",
       "    .dataframe thead th {\n",
       "        text-align: right;\n",
       "    }\n",
       "</style>\n",
       "<table border=\"1\" class=\"dataframe\">\n",
       "  <thead>\n",
       "    <tr style=\"text-align: right;\">\n",
       "      <th></th>\n",
       "      <th>total_fare</th>\n",
       "    </tr>\n",
       "  </thead>\n",
       "  <tbody>\n",
       "    <tr>\n",
       "      <th>0</th>\n",
       "      <td>116.193741</td>\n",
       "    </tr>\n",
       "    <tr>\n",
       "      <th>1</th>\n",
       "      <td>63.943104</td>\n",
       "    </tr>\n",
       "    <tr>\n",
       "      <th>2</th>\n",
       "      <td>118.528893</td>\n",
       "    </tr>\n",
       "    <tr>\n",
       "      <th>3</th>\n",
       "      <td>97.312477</td>\n",
       "    </tr>\n",
       "    <tr>\n",
       "      <th>4</th>\n",
       "      <td>105.972733</td>\n",
       "    </tr>\n",
       "  </tbody>\n",
       "</table>\n",
       "</div>"
      ],
      "text/plain": [
       "   total_fare\n",
       "0  116.193741\n",
       "1   63.943104\n",
       "2  118.528893\n",
       "3   97.312477\n",
       "4  105.972733"
      ]
     },
     "execution_count": 39,
     "metadata": {},
     "output_type": "execute_result"
    }
   ],
   "source": [
    "y_pred_final = y_pred_final.to_frame()\n",
    "y_pred_final.columns = ['total_fare']\n",
    "y_pred_final.head()"
   ]
  },
  {
   "cell_type": "code",
   "execution_count": 40,
   "id": "cc068b1b",
   "metadata": {
    "execution": {
     "iopub.execute_input": "2023-12-28T04:46:57.492160Z",
     "iopub.status.busy": "2023-12-28T04:46:57.491873Z",
     "iopub.status.idle": "2023-12-28T04:46:57.768622Z",
     "shell.execute_reply": "2023-12-28T04:46:57.767891Z"
    },
    "papermill": {
     "duration": 0.304138,
     "end_time": "2023-12-28T04:46:57.770730",
     "exception": false,
     "start_time": "2023-12-28T04:46:57.466592",
     "status": "completed"
    },
    "tags": []
   },
   "outputs": [],
   "source": [
    "# y_pred_final.to_csv(\"/kaggle/input/taxi-trip-fare-prediction/taxi_fare/submission.csv\")\n",
    "y_pred_final.to_csv(\"submission.csv\")"
   ]
  },
  {
   "cell_type": "code",
   "execution_count": null,
   "id": "c64a39dd",
   "metadata": {
    "papermill": {
     "duration": 0.024506,
     "end_time": "2023-12-28T04:46:57.820382",
     "exception": false,
     "start_time": "2023-12-28T04:46:57.795876",
     "status": "completed"
    },
    "tags": []
   },
   "outputs": [],
   "source": []
  }
 ],
 "metadata": {
  "kaggle": {
   "accelerator": "nvidiaTeslaT4",
   "dataSources": [
    {
     "datasetId": 4172221,
     "sourceId": 7210622,
     "sourceType": "datasetVersion"
    }
   ],
   "dockerImageVersionId": 30627,
   "isGpuEnabled": true,
   "isInternetEnabled": true,
   "language": "python",
   "sourceType": "notebook"
  },
  "kernelspec": {
   "display_name": "Python 3",
   "language": "python",
   "name": "python3"
  },
  "language_info": {
   "codemirror_mode": {
    "name": "ipython",
    "version": 3
   },
   "file_extension": ".py",
   "mimetype": "text/x-python",
   "name": "python",
   "nbconvert_exporter": "python",
   "pygments_lexer": "ipython3",
   "version": "3.10.12"
  },
  "papermill": {
   "default_parameters": {},
   "duration": 95.122276,
   "end_time": "2023-12-28T04:46:58.364305",
   "environment_variables": {},
   "exception": null,
   "input_path": "__notebook__.ipynb",
   "output_path": "__notebook__.ipynb",
   "parameters": {},
   "start_time": "2023-12-28T04:45:23.242029",
   "version": "2.4.0"
  }
 },
 "nbformat": 4,
 "nbformat_minor": 5
}
